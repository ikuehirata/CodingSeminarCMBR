{
 "cells": [
  {
   "cell_type": "markdown",
   "metadata": {},
   "source": [
    "# Lesson 1: Hello, World!"
   ]
  },
  {
   "cell_type": "markdown",
   "metadata": {
    "toc": true
   },
   "source": [
    "<h1>Table of Contents<span class=\"tocSkip\"></span></h1>\n",
    "<div class=\"toc\"><ul class=\"toc-item\"><li><span><a href=\"#Your-first-code\" data-toc-modified-id=\"Your-first-code-1\">Your first code</a></span><ul class=\"toc-item\"><li><span><a href=\"#Error-is-your-friend\" data-toc-modified-id=\"Error-is-your-friend-1.1\">Error is your friend</a></span></li></ul></li><li><span><a href=\"#Variables\" data-toc-modified-id=\"Variables-2\">Variables</a></span><ul class=\"toc-item\"><li><span><a href=\"#int,-float\" data-toc-modified-id=\"int,-float-2.1\"><code>int</code>, <code>float</code></a></span></li><li><span><a href=\"#bool\" data-toc-modified-id=\"bool-2.2\"><code>bool</code></a></span></li><li><span><a href=\"#str\" data-toc-modified-id=\"str-2.3\"><code>str</code></a></span></li></ul></li><li><span><a href=\"#Eliminate-repetitions\" data-toc-modified-id=\"Eliminate-repetitions-3\">Eliminate repetitions</a></span><ul class=\"toc-item\"><li><span><a href=\"#List\" data-toc-modified-id=\"List-3.1\">List</a></span></li><li><span><a href=\"#for/in-loop\" data-toc-modified-id=\"for/in-loop-3.2\"><code>for</code>/<code>in</code> loop</a></span></li></ul></li><li><span><a href=\"#Compound-types\" data-toc-modified-id=\"Compound-types-4\">Compound types</a></span><ul class=\"toc-item\"><li><span><a href=\"#List\" data-toc-modified-id=\"List-4.1\">List</a></span></li><li><span><a href=\"#Tuple\" data-toc-modified-id=\"Tuple-4.2\">Tuple</a></span></li><li><span><a href=\"#Dictionary\" data-toc-modified-id=\"Dictionary-4.3\">Dictionary</a></span></li></ul></li><li><span><a href=\"#Comparison-and-control-statement\" data-toc-modified-id=\"Comparison-and-control-statement-5\">Comparison and control statement</a></span></li><li><span><a href=\"#Control-flow\" data-toc-modified-id=\"Control-flow-6\">Control flow</a></span><ul class=\"toc-item\"><li><span><a href=\"#for-and-in\" data-toc-modified-id=\"for-and-in-6.1\"><code>for</code> and <code>in</code></a></span></li><li><span><a href=\"#While/break\" data-toc-modified-id=\"While/break-6.2\"><code>While</code>/<code>break</code></a></span></li><li><span><a href=\"#Advanced:-List-comprehension\" data-toc-modified-id=\"Advanced:-List-comprehension-6.3\">Advanced: List comprehension</a></span></li></ul></li><li><span><a href=\"#User-made-function\" data-toc-modified-id=\"User-made-function-7\">User-made function</a></span></li><li><span><a href=\"#Exercise-0\" data-toc-modified-id=\"Exercise-0-8\">Exercise 0</a></span><ul class=\"toc-item\"><li><span><a href=\"#Advanced\" data-toc-modified-id=\"Advanced-8.1\">Advanced</a></span></li></ul></li><li><span><a href=\"#Exercises\" data-toc-modified-id=\"Exercises-9\">Exercises</a></span></li><li><span><a href=\"#References\" data-toc-modified-id=\"References-10\">References</a></span></li><li><span><a href=\"#For-further-learning\" data-toc-modified-id=\"For-further-learning-11\">For further learning</a></span></li><li><span><a href=\"#Play-to-learn\" data-toc-modified-id=\"Play-to-learn-12\">Play to learn</a></span></li></ul></div>"
   ]
  },
  {
   "cell_type": "markdown",
   "metadata": {},
   "source": [
    "## Your first code\n",
    "A new langauge always starts with \"Hello, World!\" - this is a tradition."
   ]
  },
  {
   "cell_type": "code",
   "execution_count": 1,
   "metadata": {},
   "outputs": [
    {
     "name": "stdout",
     "output_type": "stream",
     "text": [
      "Hello, World!\n"
     ]
    }
   ],
   "source": [
    "print(\"Hello, World!\")"
   ]
  },
  {
   "cell_type": "markdown",
   "metadata": {},
   "source": [
    "Let's play a bit"
   ]
  },
  {
   "cell_type": "code",
   "execution_count": 2,
   "metadata": {},
   "outputs": [
    {
     "name": "stdout",
     "output_type": "stream",
     "text": [
      "Hello, World!\n"
     ]
    }
   ],
   "source": [
    "print(\"Hello, World!\") # comment out-after \"#\" everything is ignored"
   ]
  },
  {
   "cell_type": "code",
   "execution_count": 3,
   "metadata": {},
   "outputs": [
    {
     "name": "stdout",
     "output_type": "stream",
     "text": [
      "Hello, students!\n"
     ]
    }
   ],
   "source": [
    "# greeting message\n",
    "print(\"Hello, students!\")"
   ]
  },
  {
   "cell_type": "code",
   "execution_count": 4,
   "metadata": {
    "scrolled": true
   },
   "outputs": [
    {
     "name": "stdout",
     "output_type": "stream",
     "text": [
      "Hello, Alice!\n",
      "Hello, Bob!\n",
      "Hello, Charlie!\n",
      "Hello, Dave!\n"
     ]
    }
   ],
   "source": [
    "print(\"Hello, Alice!\")\n",
    "print(\"Hello, Bob!\")\n",
    "print(\"Hello, Charlie!\")\n",
    "print(\"Hello, Dave!\")"
   ]
  },
  {
   "cell_type": "markdown",
   "metadata": {},
   "source": [
    "### Error is your friend\n",
    "Error message shows you what's wrong - almost always."
   ]
  },
  {
   "cell_type": "code",
   "execution_count": 5,
   "metadata": {
    "scrolled": true
   },
   "outputs": [
    {
     "ename": "SyntaxError",
     "evalue": "EOL while scanning string literal (<ipython-input-5-855bf46aae91>, line 1)",
     "output_type": "error",
     "traceback": [
      "\u001b[1;36m  File \u001b[1;32m\"<ipython-input-5-855bf46aae91>\"\u001b[1;36m, line \u001b[1;32m1\u001b[0m\n\u001b[1;33m    print(\"Hello, Eve!)\u001b[0m\n\u001b[1;37m                       ^\u001b[0m\n\u001b[1;31mSyntaxError\u001b[0m\u001b[1;31m:\u001b[0m EOL while scanning string literal\n"
     ]
    }
   ],
   "source": [
    "print(\"Hello, Eve!)"
   ]
  },
  {
   "cell_type": "markdown",
   "metadata": {},
   "source": [
    "## Variables\n",
    "a container to put something that is variable.  \n",
    "`f-String` makes inserting variables easy:"
   ]
  },
  {
   "cell_type": "code",
   "execution_count": 6,
   "metadata": {},
   "outputs": [
    {
     "name": "stdout",
     "output_type": "stream",
     "text": [
      "Hello, Alice!\n",
      "Hello, Bob!\n",
      "Hello, Charlie!\n"
     ]
    }
   ],
   "source": [
    "username = \"Alice\"\n",
    "print(f\"Hello, {username}!\")\n",
    "username = \"Bob\"\n",
    "print(f\"Hello, {username}!\")\n",
    "username = \"Charlie\"\n",
    "print(f\"Hello, {username}!\")"
   ]
  },
  {
   "cell_type": "markdown",
   "metadata": {},
   "source": [
    "### `int`, `float`\n",
    "can perform arithmetic"
   ]
  },
  {
   "cell_type": "code",
   "execution_count": 7,
   "metadata": {},
   "outputs": [
    {
     "name": "stdout",
     "output_type": "stream",
     "text": [
      "4\n",
      "2\n",
      "15\n",
      "2.2\n",
      "2\n"
     ]
    }
   ],
   "source": [
    "a = 1\n",
    "b = 3\n",
    "c = 5\n",
    "d = 11\n",
    "print(a + b)\n",
    "print(c - b)\n",
    "print(b * c)\n",
    "print(d / c)\n",
    "print(d % b)"
   ]
  },
  {
   "cell_type": "markdown",
   "metadata": {},
   "source": [
    "### `bool`"
   ]
  },
  {
   "cell_type": "code",
   "execution_count": 8,
   "metadata": {},
   "outputs": [
    {
     "name": "stdout",
     "output_type": "stream",
     "text": [
      "True\n",
      "False\n"
     ]
    }
   ],
   "source": [
    "x = True\n",
    "y = False\n",
    "print(x)\n",
    "print(y)"
   ]
  },
  {
   "cell_type": "markdown",
   "metadata": {},
   "source": [
    "### `str`"
   ]
  },
  {
   "cell_type": "code",
   "execution_count": 9,
   "metadata": {
    "scrolled": true
   },
   "outputs": [
    {
     "name": "stdout",
     "output_type": "stream",
     "text": [
      "H\n",
      "e\n",
      "l\n",
      "l\n",
      "o\n",
      "Hello, World!\n"
     ]
    }
   ],
   "source": [
    "st1 = \"Hello\"\n",
    "st2 = \", World!\"\n",
    "print(st1[0])\n",
    "print(st1[1])\n",
    "print(st1[2])\n",
    "print(st1[3])\n",
    "print(st1[4])\n",
    "print(st1 + st2)"
   ]
  },
  {
   "cell_type": "markdown",
   "metadata": {},
   "source": [
    "## Eliminate repetitions\n",
    "### List\n",
    "is a compound of zero/single/several variables"
   ]
  },
  {
   "cell_type": "code",
   "execution_count": 10,
   "metadata": {
    "scrolled": true
   },
   "outputs": [
    {
     "name": "stdout",
     "output_type": "stream",
     "text": [
      "['Alice', 'Bob', 'Charlie', 'Dave']\n"
     ]
    }
   ],
   "source": [
    "lon = [\"Alice\", \"Bob\", \"Charlie\", \"Dave\"]\n",
    "print(lon)"
   ]
  },
  {
   "cell_type": "markdown",
   "metadata": {},
   "source": [
    "### `for`/`in` loop\n",
    "process each element in the compound"
   ]
  },
  {
   "cell_type": "code",
   "execution_count": 11,
   "metadata": {
    "scrolled": true
   },
   "outputs": [
    {
     "name": "stdout",
     "output_type": "stream",
     "text": [
      "Hello, Alice!\n",
      "Hello, Bob!\n",
      "Hello, Charlie!\n",
      "Hello, Dave!\n"
     ]
    }
   ],
   "source": [
    "for username in lon:\n",
    "    print(f\"Hello, {username}!\")"
   ]
  },
  {
   "cell_type": "markdown",
   "metadata": {},
   "source": [
    "## Compound types\n",
    "### List\n",
    "Each element is associated with `index`"
   ]
  },
  {
   "cell_type": "code",
   "execution_count": 12,
   "metadata": {
    "scrolled": true
   },
   "outputs": [
    {
     "name": "stdout",
     "output_type": "stream",
     "text": [
      "Ancona\n",
      "Domodossola\n",
      "Imora\n",
      "Genova\n"
     ]
    }
   ],
   "source": [
    "ic = [\"Ancona\", \"Bolgona\", \"Como\", \"Domodossola\", \"Empoli\"]\n",
    "ic = ic + [\"Firenze\", \"Genova\", \"Hotel\", \"Imora\"]\n",
    "print(ic[0])\n",
    "print(ic[3])\n",
    "print(ic[-1])\n",
    "print(ic[-3])"
   ]
  },
  {
   "cell_type": "markdown",
   "metadata": {},
   "source": [
    "Use slice to take out some parts"
   ]
  },
  {
   "cell_type": "code",
   "execution_count": 13,
   "metadata": {},
   "outputs": [
    {
     "name": "stdout",
     "output_type": "stream",
     "text": [
      "['Bolgona']\n",
      "['Domodossola', 'Empoli', 'Firenze', 'Genova', 'Hotel', 'Imora']\n",
      "['Ancona', 'Como', 'Empoli', 'Genova', 'Imora']\n",
      "['Imora', 'Hotel', 'Genova', 'Firenze', 'Empoli', 'Domodossola', 'Como', 'Bolgona', 'Ancona']\n"
     ]
    }
   ],
   "source": [
    "print(ic[1:2])\n",
    "print(ic[3:])\n",
    "print(ic[::2])\n",
    "print(ic[::-1])"
   ]
  },
  {
   "cell_type": "markdown",
   "metadata": {},
   "source": [
    "### Tuple\n",
    "Not index-controlled i.e. the order is not very important"
   ]
  },
  {
   "cell_type": "code",
   "execution_count": 14,
   "metadata": {},
   "outputs": [
    {
     "name": "stdout",
     "output_type": "stream",
     "text": [
      "('Alice', 'Bob', 'Charlie')\n"
     ]
    }
   ],
   "source": [
    "tup = (\"Alice\", \"Bob\", \"Charlie\")\n",
    "print(tup)"
   ]
  },
  {
   "cell_type": "markdown",
   "metadata": {},
   "source": [
    "### Dictionary\n",
    "Each element is associated with `key`"
   ]
  },
  {
   "cell_type": "code",
   "execution_count": 15,
   "metadata": {},
   "outputs": [
    {
     "name": "stdout",
     "output_type": "stream",
     "text": [
      "14\n",
      "90\n"
     ]
    }
   ],
   "source": [
    "ages = {\"Alice\":14, \"Bob\":18, \"Charlie\":30, \"Dave\":90}\n",
    "print(ages[\"Alice\"])\n",
    "print(ages[\"Dave\"])"
   ]
  },
  {
   "cell_type": "markdown",
   "metadata": {},
   "source": [
    "## Comparison and control statement\n",
    "Equal to, not equal to, larger than, smaller than."
   ]
  },
  {
   "cell_type": "code",
   "execution_count": 16,
   "metadata": {},
   "outputs": [
    {
     "name": "stdout",
     "output_type": "stream",
     "text": [
      "Of couse 1 is not 2.\n",
      "Of couse 1 is smaller than 3.\n"
     ]
    }
   ],
   "source": [
    "a = 1\n",
    "b = 2\n",
    "if a != b:\n",
    "    print(\"Of couse 1 is not 2.\")\n",
    "else:\n",
    "    print(\"Mathematical common sense has been overturned!\")\n",
    "c = 3\n",
    "if a > c:\n",
    "    print(\"Mathematical common sense has been overturned!\")\n",
    "else:\n",
    "    print(\"Of couse 1 is smaller than 3.\")"
   ]
  },
  {
   "cell_type": "code",
   "execution_count": 17,
   "metadata": {},
   "outputs": [
    {
     "name": "stdout",
     "output_type": "stream",
     "text": [
      "Cat is not a dog nor mouse\n"
     ]
    }
   ],
   "source": [
    "if \"cat\" == \"dog\":\n",
    "    print(\"Cat is dog\")\n",
    "elif \"cat\" == \"mouse\":\n",
    "    print(\"Cat is mouse\")\n",
    "else:\n",
    "    print(\"Cat is not a dog nor mouse\")"
   ]
  },
  {
   "cell_type": "code",
   "execution_count": 18,
   "metadata": {
    "slideshow": {
     "slide_type": "slide"
    }
   },
   "outputs": [
    {
     "name": "stdout",
     "output_type": "stream",
     "text": [
      "0\n",
      "1\n",
      "2\n",
      "3\n",
      "4\n"
     ]
    }
   ],
   "source": [
    "i = 0\n",
    "while i < 5:\n",
    "    print(i)\n",
    "    i = i + 1"
   ]
  },
  {
   "cell_type": "markdown",
   "metadata": {},
   "source": [
    "## Control flow\n",
    "### `for` and `in`\n",
    "already explained above\n",
    "### `While`/`break`\n",
    "repeats while the condition is `True`. `break` to force break out of the loop.\n",
    "`break` can be used in `for` as well."
   ]
  },
  {
   "cell_type": "code",
   "execution_count": 19,
   "metadata": {},
   "outputs": [
    {
     "name": "stdout",
     "output_type": "stream",
     "text": [
      "8.00 working\n",
      "11.00 working\n",
      "14.00 working\n",
      "17.00 working\n",
      "20.00 working\n",
      "I'm too tired!\n"
     ]
    }
   ],
   "source": [
    "h = 8\n",
    "while h < 24:\n",
    "    print(f\"{h}.00 working\")\n",
    "    h = h + 3\n",
    "    if h > 22:\n",
    "        break\n",
    "print(\"I'm too tired!\")"
   ]
  },
  {
   "cell_type": "markdown",
   "metadata": {},
   "source": [
    "### Advanced: List comprehension\n",
    "choose specific elements from the list using `if` statement"
   ]
  },
  {
   "cell_type": "code",
   "execution_count": 20,
   "metadata": {},
   "outputs": [
    {
     "name": "stdout",
     "output_type": "stream",
     "text": [
      "['Ancona', 'Bolgona', 'Domodossola', 'Empoli', 'Firenze', 'Genova']\n"
     ]
    }
   ],
   "source": [
    "# pick up cities which names are longer than 5 chars\n",
    "print([c for c in ic if len(c) > 5])"
   ]
  },
  {
   "cell_type": "code",
   "execution_count": 21,
   "metadata": {},
   "outputs": [
    {
     "name": "stdout",
     "output_type": "stream",
     "text": [
      "['Ancona', 'Bolgona', 'Domodossola', 'Genova', 'Imora']\n"
     ]
    }
   ],
   "source": [
    "# pick up cities that has \"A\" or \"a\"\n",
    "print([c for c in ic if \"a\" in c or \"A\" in c])"
   ]
  },
  {
   "cell_type": "markdown",
   "metadata": {},
   "source": [
    "## User-made function"
   ]
  },
  {
   "cell_type": "code",
   "execution_count": 22,
   "metadata": {},
   "outputs": [
    {
     "name": "stdout",
     "output_type": "stream",
     "text": [
      "this is a test function\n"
     ]
    }
   ],
   "source": [
    "def func():\n",
    "    print('this is a test function')\n",
    "func()"
   ]
  },
  {
   "cell_type": "code",
   "execution_count": 23,
   "metadata": {},
   "outputs": [
    {
     "name": "stdout",
     "output_type": "stream",
     "text": [
      "77.0\n"
     ]
    }
   ],
   "source": [
    "def fahrenheit(T_in_celsius):\n",
    "    # returns the temperature in degrees Fahrenheit\n",
    "    return (T_in_celsius * 9 / 5) + 32\n",
    "print(fahrenheit(25))"
   ]
  },
  {
   "cell_type": "markdown",
   "metadata": {},
   "source": [
    "## Exercise 0\n",
    "1. Print the natural numbers from 1 to 100.\n",
    "2. Print the square of natural numbers from 1 to 100.\n",
    "3. Print the square of odd numbers from 1 to 100.\n",
    "4. Print the square of natural numbers that are not multiples of 3 from 1 to 100.\n",
    "5. Print power of 2 within the range of 1 to 5000.\n",
    "6. Print cube root of natural numbers from 1 to 10 to the fourth decimal place.\n",
    "\n",
    "### Advanced\n",
    "Do above in 1 line for each using list comprehension.\n",
    "\n",
    "### Tips\n",
    "Use a flowchart ot clarify what you want to do. An example: [Draw.io](https://www.draw.io/)"
   ]
  },
  {
   "cell_type": "markdown",
   "metadata": {},
   "source": [
    "## Exercises\n",
    "[Excercise 1](https://github.com/ikuehirata/CodingSeminarCMBR/blob/master/Lesson1_Exercise1.ipynb)\n",
    "[Excercise 2](https://github.com/ikuehirata/CodingSeminarCMBR/blob/master/Lesson1_Exercise2.ipynb)\n",
    "\n",
    "## References\n",
    "- [Python official documentation](https://docs.python.org/3.7/)\n",
    "- [Stack Overflow](https://stackoverflow.com/)\n",
    "- [Think Python: How to Think Like a Computer Scientist](http://greenteapress.com/thinkpython2/html/index.html)\n",
    "- [Google](http://google.com/)\n",
    "\n",
    "## For further learning\n",
    "- [codecademy Learn Python 2](https://www.codecademy.com/learn/learn-python)\n",
    "\n",
    "## Play to learn\n",
    "- [Human Resource Machine](https://tomorrowcorporation.com/humanresourcemachine)\n",
    "- [7 Billion Humans](https://tomorrowcorporation.com/7billionhumans)\n",
    "\n",
    "Both available on iOS/Android/PC"
   ]
  }
 ],
 "metadata": {
  "celltoolbar": "Raw Cell Format",
  "kernelspec": {
   "display_name": "Python 3",
   "language": "python",
   "name": "python3"
  },
  "language_info": {
   "codemirror_mode": {
    "name": "ipython",
    "version": 3
   },
   "file_extension": ".py",
   "mimetype": "text/x-python",
   "name": "python",
   "nbconvert_exporter": "python",
   "pygments_lexer": "ipython3",
   "version": "3.7.4"
  },
  "toc": {
   "base_numbering": 1,
   "nav_menu": {},
   "number_sections": false,
   "sideBar": true,
   "skip_h1_title": true,
   "title_cell": "Table of Contents",
   "title_sidebar": "Contents",
   "toc_cell": true,
   "toc_position": {
    "height": "510px",
    "left": "10px",
    "top": "150px",
    "width": "165px"
   },
   "toc_section_display": false,
   "toc_window_display": false
  }
 },
 "nbformat": 4,
 "nbformat_minor": 4
}