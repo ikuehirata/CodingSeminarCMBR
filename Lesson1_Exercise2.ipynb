{
 "cells": [
  {
   "cell_type": "markdown",
   "metadata": {},
   "source": [
    "# Lesson 1 - Exercise 2\n",
    "\n",
    "Write a code that determins if the input number is a primal number or not, such as:\n",
    "```\n",
    "def isprime(n):\n",
    "    your code here\n",
    "    if (n is a prime number):\n",
    "        return True\n",
    "    else:\n",
    "        return False\n",
    "\n",
    "isprime(10)\n",
    "isprime(297)\n",
    "isprime(104593)\n",
    "```\n",
    "The output is False, ?, ? (find the answers by yourself!)"
   ]
  }
 ],
 "metadata": {
  "kernelspec": {
   "display_name": "Python 3",
   "language": "python",
   "name": "python3"
  },
  "language_info": {
   "codemirror_mode": {
    "name": "ipython",
    "version": 3
   },
   "file_extension": ".py",
   "mimetype": "text/x-python",
   "name": "python",
   "nbconvert_exporter": "python",
   "pygments_lexer": "ipython3",
   "version": "3.7.4"
  },
  "toc": {
   "base_numbering": 1,
   "nav_menu": {},
   "number_sections": true,
   "sideBar": false,
   "skip_h1_title": true,
   "title_cell": "Table of Contents",
   "title_sidebar": "Contents",
   "toc_cell": true,
   "toc_position": {},
   "toc_section_display": true,
   "toc_window_display": false
  }
 },
 "nbformat": 4,
 "nbformat_minor": 4
}