{
 "cells": [
  {
   "cell_type": "markdown",
   "metadata": {},
   "source": [
    "# Lesson 1 - Exercise 2\n",
    "\n",
    "Write a code that determins if the input number is a primal number or not, such as:\n",
    "```\n",
    "def isprime(n):\n",
    "    your code here\n",
    "    if (n is a prime number):\n",
    "        return True\n",
    "    else:\n",
    "        return False\n",
    "\n",
    "isprime(10)\n",
    "isprime(297)\n",
    "isprime(104593)\n",
    "```\n",
    "The output is False, ?, ? (find the answers by yourself!)"
   ]
  },
  {
   "cell_type": "markdown",
   "metadata": {},
   "source": [
    "## Model answer 1\n",
    "Try all the natural numbers that are smaller than $n$ as the divisor."
   ]
  },
  {
   "cell_type": "code",
   "execution_count": 1,
   "metadata": {},
   "outputs": [
    {
     "name": "stdout",
     "output_type": "stream",
     "text": [
      "False\n",
      "False\n",
      "True\n"
     ]
    }
   ],
   "source": [
    "def isprimex(n):\n",
    "    for i in range(2, n): \n",
    "        if n % i == 0: # obtain remainder\n",
    "            return False # once the divisor is found, finish the function by return\n",
    "    return True # no divisor is found, return True\n",
    "\n",
    "print(isprimex(10))\n",
    "print(isprimex(297))\n",
    "print(isprimex(104593))"
   ]
  },
  {
   "cell_type": "markdown",
   "metadata": {},
   "source": [
    "For 104593, let's see how long the process takes."
   ]
  },
  {
   "cell_type": "code",
   "execution_count": 2,
   "metadata": {},
   "outputs": [
    {
     "name": "stdout",
     "output_type": "stream",
     "text": [
      "True\n",
      "elapsed_time: 0.01798868179321289 s\n"
     ]
    }
   ],
   "source": [
    "import time\n",
    "if __name__ == '__main__':\n",
    "    start = time.time()\n",
    "    print(isprimex(104593))\n",
    "    elapsed_time = time.time() - start\n",
    "    print (f\"elapsed_time: {elapsed_time} s\")"
   ]
  },
  {
   "cell_type": "markdown",
   "metadata": {},
   "source": [
    "## Model answer 2\n",
    "Divisors is always smaller than $\\sqrt{n}$."
   ]
  },
  {
   "cell_type": "code",
   "execution_count": 3,
   "metadata": {},
   "outputs": [
    {
     "name": "stdout",
     "output_type": "stream",
     "text": [
      "True\n",
      "elapsed_time: 0.006994485855102539 s\n"
     ]
    }
   ],
   "source": [
    "def isprimex2(n):\n",
    "    for i in range(2, int(n**1/2+1)): \n",
    "        if n % i == 0: # remainder calculation\n",
    "            return False # once the divisor is found, finish the function by return\n",
    "    return True # no divisor is found, return True\n",
    "\n",
    "if __name__ == '__main__':\n",
    "    start = time.time()\n",
    "    print(isprimex2(104593))\n",
    "    elapsed_time = time.time() - start\n",
    "    print (f\"elapsed_time: {elapsed_time} s\")"
   ]
  },
  {
   "cell_type": "markdown",
   "metadata": {},
   "source": [
    "## Model answer 3\n",
    "Use a package."
   ]
  },
  {
   "cell_type": "code",
   "execution_count": 4,
   "metadata": {},
   "outputs": [
    {
     "name": "stdout",
     "output_type": "stream",
     "text": [
      "True\n",
      "elapsed_time:  0.00100064277648925781 s\n"
     ]
    }
   ],
   "source": [
    "from sympy import isprime\n",
    "\n",
    "if __name__ == '__main__':\n",
    "    start2 = time.time()\n",
    "    print(isprime(104593))\n",
    "    elapsed_time2 = time.time() - start2\n",
    "    print (f\"elapsed_time: {elapsed_time2: .20f} s\")"
   ]
  }
 ],
 "metadata": {
  "kernelspec": {
   "display_name": "Python 3",
   "language": "python",
   "name": "python3"
  },
  "language_info": {
   "codemirror_mode": {
    "name": "ipython",
    "version": 3
   },
   "file_extension": ".py",
   "mimetype": "text/x-python",
   "name": "python",
   "nbconvert_exporter": "python",
   "pygments_lexer": "ipython3",
   "version": "3.7.4"
  },
  "toc": {
   "base_numbering": 1,
   "nav_menu": {},
   "number_sections": true,
   "sideBar": false,
   "skip_h1_title": true,
   "title_cell": "Table of Contents",
   "title_sidebar": "Contents",
   "toc_cell": true,
   "toc_position": {},
   "toc_section_display": true,
   "toc_window_display": false
  }
 },
 "nbformat": 4,
 "nbformat_minor": 4
}