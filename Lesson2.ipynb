{
 "cells": [
  {
   "cell_type": "markdown",
   "metadata": {},
   "source": [
    "# Lesson 2: Modules"
   ]
  },
  {
   "cell_type": "markdown",
   "metadata": {
    "toc": true
   },
   "source": [
    "<h1>Table of Contents<span class=\"tocSkip\"></span></h1>\n",
    "<div class=\"toc\"><ul class=\"toc-item\"><li><span><a href=\"#Numpy\" data-toc-modified-id=\"Numpy-1\"><span class=\"toc-item-num\">1&nbsp;&nbsp;</span><code>Numpy</code></a></span><ul class=\"toc-item\"><li><span><a href=\"#Importing-a-module\" data-toc-modified-id=\"Importing-a-module-1.1\"><span class=\"toc-item-num\">1.1&nbsp;&nbsp;</span>Importing a module</a></span></li><li><span><a href=\"#Some-basic-operatons\" data-toc-modified-id=\"Some-basic-operatons-1.2\"><span class=\"toc-item-num\">1.2&nbsp;&nbsp;</span>Some basic operatons</a></span></li></ul></li><li><span><a href=\"#Vector/matrix-opertaions\" data-toc-modified-id=\"Vector/matrix-opertaions-2\"><span class=\"toc-item-num\">2&nbsp;&nbsp;</span>Vector/matrix opertaions</a></span><ul class=\"toc-item\"><li><span><a href=\"#Inner-product\" data-toc-modified-id=\"Inner-product-2.1\"><span class=\"toc-item-num\">2.1&nbsp;&nbsp;</span>Inner product</a></span></li><li><span><a href=\"#Outer-product\" data-toc-modified-id=\"Outer-product-2.2\"><span class=\"toc-item-num\">2.2&nbsp;&nbsp;</span>Outer product</a></span></li><li><span><a href=\"#Cross-product\" data-toc-modified-id=\"Cross-product-2.3\"><span class=\"toc-item-num\">2.3&nbsp;&nbsp;</span>Cross product</a></span></li></ul></li><li><span><a href=\"#Plotting\" data-toc-modified-id=\"Plotting-3\"><span class=\"toc-item-num\">3&nbsp;&nbsp;</span>Plotting</a></span><ul class=\"toc-item\"><li><span><a href=\"#Your-first-graph\" data-toc-modified-id=\"Your-first-graph-3.1\"><span class=\"toc-item-num\">3.1&nbsp;&nbsp;</span>Your first graph</a></span></li><li><span><a href=\"#Graph-aesthetics\" data-toc-modified-id=\"Graph-aesthetics-3.2\"><span class=\"toc-item-num\">3.2&nbsp;&nbsp;</span>Graph aesthetics</a></span></li></ul></li><li><span><a href=\"#Exercise-0\" data-toc-modified-id=\"Exercise-0-4\"><span class=\"toc-item-num\">4&nbsp;&nbsp;</span>Exercise 0</a></span></li><li><span><a href=\"#Exercises\" data-toc-modified-id=\"Exercises-5\"><span class=\"toc-item-num\">5&nbsp;&nbsp;</span>Exercises</a></span></li><li><span><a href=\"#References\" data-toc-modified-id=\"References-6\"><span class=\"toc-item-num\">6&nbsp;&nbsp;</span>References</a></span></li><li><span><a href=\"#For-further-learning\" data-toc-modified-id=\"For-further-learning-7\"><span class=\"toc-item-num\">7&nbsp;&nbsp;</span>For further learning</a></span></li></ul></div>"
   ]
  },
  {
   "cell_type": "markdown",
   "metadata": {},
   "source": [
    "## `Numpy`\n",
    "### Importing a module"
   ]
  },
  {
   "cell_type": "markdown",
   "metadata": {},
   "source": [
    "Modules are sets of functions. By importing it you can fully exploit them and do not need to write codes by yourself. For `Numpy`, one of the most common item should be `array`. Using `as` the module is called by a custom alias."
   ]
  },
  {
   "cell_type": "code",
   "execution_count": 1,
   "metadata": {},
   "outputs": [
    {
     "name": "stdout",
     "output_type": "stream",
     "text": [
      "[1 2 3]\n"
     ]
    }
   ],
   "source": [
    "import numpy as np\n",
    "a = np.array([1,2,3])\n",
    "print(a)"
   ]
  },
  {
   "cell_type": "markdown",
   "metadata": {},
   "source": [
    "Multi-column array, or matrix, can be created as multi-stack list."
   ]
  },
  {
   "cell_type": "code",
   "execution_count": 2,
   "metadata": {},
   "outputs": [
    {
     "name": "stdout",
     "output_type": "stream",
     "text": [
      "[['x1' 'x2' 'x3']\n",
      " ['y1' 'y2' 'y3']]\n"
     ]
    }
   ],
   "source": [
    "m = np.array([[\"x1\",\"x2\",\"x3\"],[\"y1\",\"y2\",\"y3\"]])\n",
    "print(m)"
   ]
  },
  {
   "cell_type": "markdown",
   "metadata": {},
   "source": [
    "### Some basic operatons\n",
    "Slices can be used, like `list`."
   ]
  },
  {
   "cell_type": "code",
   "execution_count": 3,
   "metadata": {
    "scrolled": true
   },
   "outputs": [
    {
     "name": "stdout",
     "output_type": "stream",
     "text": [
      "[[1 2 3]\n",
      " [4 5 6]\n",
      " [7 8 9]]\n",
      "[1 2 3]\n",
      "5\n",
      "[4 5 6]\n"
     ]
    }
   ],
   "source": [
    "c = np.array([[1,2,3],[4,5,6],[7,8,9]])\n",
    "print(c)\n",
    "print(c[0])\n",
    "print(c[1][1])\n",
    "print(c[1,:])"
   ]
  },
  {
   "cell_type": "markdown",
   "metadata": {},
   "source": [
    "Properties and `True`/`False` condition can be used, like `list`."
   ]
  },
  {
   "cell_type": "code",
   "execution_count": 4,
   "metadata": {},
   "outputs": [
    {
     "name": "stdout",
     "output_type": "stream",
     "text": [
      "(3, 3)\n",
      "int32\n",
      "3\n",
      "True\n",
      "False\n"
     ]
    }
   ],
   "source": [
    "print(c.shape)\n",
    "print(c.dtype)\n",
    "print(len(c))\n",
    "print(1 in c)\n",
    "print(0 in c)"
   ]
  },
  {
   "cell_type": "markdown",
   "metadata": {},
   "source": [
    "Arithmeric is pretty instinctive."
   ]
  },
  {
   "cell_type": "code",
   "execution_count": 5,
   "metadata": {},
   "outputs": [
    {
     "name": "stdout",
     "output_type": "stream",
     "text": [
      "[5 7 9]\n",
      "[3 3 3]\n",
      "[ 4 10 18]\n",
      "[0.25 0.4  0.5 ]\n",
      "[0 1 0]\n"
     ]
    }
   ],
   "source": [
    "a = np.array([1,2,3])\n",
    "b = np.array([4,5,6])\n",
    "print(a + b)\n",
    "print(b - a)\n",
    "print(a * b)\n",
    "print(a / b)\n",
    "print(b % a)"
   ]
  },
  {
   "cell_type": "code",
   "execution_count": 6,
   "metadata": {},
   "outputs": [
    {
     "name": "stdout",
     "output_type": "stream",
     "text": [
      "[ 1  2  3  4  5  6  7  8  9 10 11 12 13 14 15 16 17 18 19]\n",
      "[  1   4   9  16  25  36  49  64  81 100 121 144 169 196 225 256 289 324\n",
      " 361]\n"
     ]
    }
   ],
   "source": [
    "x = np.arange(1,20)\n",
    "y = x**2\n",
    "print(x)\n",
    "print(y)"
   ]
  },
  {
   "cell_type": "markdown",
   "metadata": {},
   "source": [
    "Other operations like `sum()`, `prod()`, `mean()`, `var()`, `std()`, `min()`, `max()`, `argmin()`, and `argmax()` can be used just as like `list`"
   ]
  },
  {
   "cell_type": "code",
   "execution_count": 7,
   "metadata": {},
   "outputs": [
    {
     "name": "stdout",
     "output_type": "stream",
     "text": [
      "[1 2 3]\n",
      "6 6\n",
      "2.0 0.6666666666666666 0.816496580927726\n",
      "1 3\n",
      "0 2\n"
     ]
    }
   ],
   "source": [
    "print(a)\n",
    "print(np.sum(a), np.prod(a))\n",
    "print(np.mean(a), np.var(a), np.std(a))\n",
    "print(np.min(a), np.max(a))\n",
    "print(np.argmin(a), np.argmax(a)) # shows the index of min/max value"
   ]
  },
  {
   "cell_type": "markdown",
   "metadata": {},
   "source": [
    "`numpy.concatenate` combines two arrays in certain direction, determined by `axis` property."
   ]
  },
  {
   "cell_type": "code",
   "execution_count": 8,
   "metadata": {
    "scrolled": true
   },
   "outputs": [
    {
     "name": "stdout",
     "output_type": "stream",
     "text": [
      "[[ 1  2  3]\n",
      " [ 4  5  6]\n",
      " [ 7  8  9]\n",
      " [10 11 12]\n",
      " [13 14 15]\n",
      " [16 17 18]]\n",
      "[[ 1  2  3 10 11 12]\n",
      " [ 4  5  6 13 14 15]\n",
      " [ 7  8  9 16 17 18]]\n"
     ]
    }
   ],
   "source": [
    "d = np.array([[10,11,12],[13,14,15],[16,17,18]])\n",
    "print(np.concatenate((c,d), axis=0))\n",
    "print(np.concatenate((c,d), axis=1))"
   ]
  },
  {
   "cell_type": "markdown",
   "metadata": {},
   "source": [
    "## Vector/matrix opertaions\n",
    "### Inner product\n",
    "Let's get more scientific. Mathematical operations are easy.\n",
    "$$ \\boldsymbol{a} = \\left[\\begin{array}{c}\n",
    "a_1\\\\a_2\\\\a_3\\end{array}\\right],\n",
    "\\boldsymbol{b} = \\left[\\begin{array}{c}\n",
    "b_1\\\\b_2\\\\b_3\\end{array}\\right] \\\\\n",
    "\\boldsymbol{a} \\cdot \\boldsymbol{b} = a_1 \\cdot b_1 + a_2 \\cdot b_2 + a_3 \\cdot b_3$$"
   ]
  },
  {
   "cell_type": "code",
   "execution_count": 9,
   "metadata": {},
   "outputs": [
    {
     "name": "stdout",
     "output_type": "stream",
     "text": [
      "32\n"
     ]
    }
   ],
   "source": [
    "print(np.inner(a,b))"
   ]
  },
  {
   "cell_type": "markdown",
   "metadata": {},
   "source": [
    "### Outer product\n",
    "$$ \\boldsymbol{a} \\otimes \\boldsymbol{b} = \\boldsymbol{a} \\boldsymbol{b}^\\intercal  = \\left[\\begin{array}{c}\n",
    "a_1b_1 & a_1b_2 & a_1b_3\\\\\n",
    "a_2b_1 & a_2b_2 & a_2b_3\\\\\n",
    "a_3b_1 & a_3b_2 & a_3b_3\\end{array}\\right]$$"
   ]
  },
  {
   "cell_type": "code",
   "execution_count": 10,
   "metadata": {},
   "outputs": [
    {
     "name": "stdout",
     "output_type": "stream",
     "text": [
      "[[ 4  5  6]\n",
      " [ 8 10 12]\n",
      " [12 15 18]]\n"
     ]
    }
   ],
   "source": [
    "print(np.outer(a,b))"
   ]
  },
  {
   "cell_type": "markdown",
   "metadata": {},
   "source": [
    "### Cross product\n",
    "$$ \\boldsymbol{a} \\times \\boldsymbol{b} = \\left[\\begin{array}{c}\n",
    "a_2 b_3 - a_3 b_2\\\\\n",
    "a_3 b_1 - a_1 b_3\\\\\n",
    "a_1 b_2 - a_2 b_1\\end{array}\\right]$$"
   ]
  },
  {
   "cell_type": "code",
   "execution_count": 11,
   "metadata": {},
   "outputs": [
    {
     "name": "stdout",
     "output_type": "stream",
     "text": [
      "[-3  6 -3]\n"
     ]
    }
   ],
   "source": [
    "print(np.cross(a,b))"
   ]
  },
  {
   "cell_type": "markdown",
   "metadata": {},
   "source": [
    "## Plotting\n",
    "### Your first graph\n",
    "One of the most important functions for us! Plotting and showing the garphs are done by a module `matplotlib`."
   ]
  },
  {
   "cell_type": "code",
   "execution_count": 12,
   "metadata": {},
   "outputs": [
    {
     "data": {
      "text/plain": [
       "<Figure size 640x480 with 1 Axes>"
      ]
     },
     "metadata": {},
     "output_type": "display_data"
    }
   ],
   "source": [
    "import matplotlib.pyplot as plt\n",
    "x = np.arange(0, 10, 0.2)\n",
    "x2 = x+1\n",
    "y = np.sin(x)\n",
    "plt.plot(x, y)\n",
    "plt.plot(x2, y)\n",
    "plt.show()"
   ]
  },
  {
   "cell_type": "markdown",
   "metadata": {},
   "source": [
    "### Graph aesthetics\n",
    "Let's make it more beautiful"
   ]
  },
  {
   "cell_type": "code",
   "execution_count": 13,
   "metadata": {},
   "outputs": [
    {
     "data": {
      "image/png": "[encoded data removed]",
      "text/plain": [
       "<Figure size 432x288 with 1 Axes>"
      ]
     },
     "metadata": {
      "needs_background": "light"
     },
     "output_type": "display_data"
    }
   ],
   "source": [
    "plt.plot(x, y)\n",
    "plt.plot(x2, y)\n",
    "plt.xlabel(\"This is xlabel\")\n",
    "plt.ylabel(\"This is ylabel\")\n",
    "plt.title(\"This is your first figure\")\n",
    "plt.show()"
   ]
  },
  {
   "cell_type": "markdown",
   "metadata": {},
   "source": [
    "`plt.savefig` saves the image. Check your folder for a new image file."
   ]
  },
  {
   "cell_type": "code",
   "execution_count": 14,
   "metadata": {},
   "outputs": [
    {
     "data": {
      "image/png": "[encoded data removed]",
      "text/plain": [
       "<Figure size 432x288 with 1 Axes>"
      ]
     },
     "metadata": {
      "needs_background": "light"
     },
     "output_type": "display_data"
    },
    {
     "data": {
      "text/plain": [
       "<Figure size 432x288 with 0 Axes>"
      ]
     },
     "metadata": {},
     "output_type": "display_data"
    }
   ],
   "source": [
    "plt.plot(x, y, label=\"plot 1\", lw=2)\n",
    "plt.plot(x2, y, label=\"plot 2\", lw=2)\n",
    "plt.xlabel(\"This is xlabel\", size=15)\n",
    "plt.ylabel(\"This is ylabel\", size=15)\n",
    "plt.title(\"This is your first figure\", size=20)\n",
    "plt.xticks(size=15)\n",
    "plt.yticks(size=15)\n",
    "plt.legend(fontsize=12)\n",
    "plt.show()\n",
    "plt.savefig(\"firstplot.png\")"
   ]
  },
  {
   "cell_type": "markdown",
   "metadata": {},
   "source": [
    "## Exercise 0\n",
    "Simulate free fall: \n",
    "A ball is dropped from a height of 57 m.\n",
    "\n",
    "1. Draw a velocity-time graph, provided the object follow Newton's motion equation\n",
    "$$ m a = m g $$\n",
    "where $ m $ is the weight of the object, a the acceleration, \n",
    "$ g $ the gravitational acceleration 9.8 m/s<sup>2</sup>, given no other disturbance.\n",
    "2. Draw height-time graphs;\n",
    "    1. Analytically using\n",
    "    $$ h(t) = h_{init} - \\frac{1}{2} g t^2 $$\n",
    "    2. Numerically using\n",
    "    $$ h(t+ \\Delta t) = h(t) + v(t) \\Delta t $$"
   ]
  },
  {
   "cell_type": "markdown",
   "metadata": {},
   "source": [
    "## Exercises\n",
    "[Excercise 1](https://github.com/ikuehirata/CodingSeminarCMBR/blob/master/Lesson2_Exercise1.ipynb)\n",
    "[Excercise 2](https://github.com/ikuehirata/CodingSeminarCMBR/blob/master/Lesson2_Exercise2.ipynb)\n",
    "\n",
    "## References\n",
    "- [Python 3.7 official documentation](https://docs.python.org/3.7/)\n",
    "- [NumPy official documentation](https://numpy.org/)\n",
    "- [matplotlib official documentation](https://matplotlib.org/)\n",
    "- [Stack Overflow](https://stackoverflow.com/)\n",
    "- [Think Python: How to Think Like a Computer Scientist](http://greenteapress.com/thinkpython2/html/index.html)\n",
    "- [Google](http://google.com/)\n",
    "\n",
    "## For further learning\n",
    "- [codecademy Learn Python 2](https://www.codecademy.com/learn/learn-python)"
   ]
  }
 ],
 "metadata": {
  "kernelspec": {
   "display_name": "Python 3",
   "language": "python",
   "name": "python3"
  },
  "language_info": {
   "codemirror_mode": {
    "name": "ipython",
    "version": 3
   },
   "file_extension": ".py",
   "mimetype": "text/x-python",
   "name": "python",
   "nbconvert_exporter": "python",
   "pygments_lexer": "ipython3",
   "version": "3.7.3"
  },
  "toc": {
   "base_numbering": 1,
   "nav_menu": {},
   "number_sections": true,
   "sideBar": false,
   "skip_h1_title": true,
   "title_cell": "Table of Contents",
   "title_sidebar": "Contents",
   "toc_cell": true,
   "toc_position": {},
   "toc_section_display": true,
   "toc_window_display": false
  }
 },
 "nbformat": 4,
 "nbformat_minor": 4
}