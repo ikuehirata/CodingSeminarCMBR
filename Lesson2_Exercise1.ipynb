{
 "cells": [
  {
   "cell_type": "markdown",
   "metadata": {},
   "source": [
    "# Lesson 2 - Exercise 1\n",
    "## One dimentional random walk\n",
    "Simulate 5-step one dimentional random walk in an array and plot in $x-t$ graph:\n",
    "\n",
    "- a dot is positioned at $x = 0$ at $t = 0$\n",
    "\n",
    "- every second the dot moves either left or right at 50% probability *i.e.*"
   ]
  },
  {
   "cell_type": "markdown",
   "metadata": {},
   "source": [
    "$$\n",
    "    x(t+1) =\n",
    "        \\begin{cases}\n",
    "            x(t)+1 \\\\\n",
    "            x(t)-1 \\\\\n",
    "        \\end{cases}\n",
    "$$"
   ]
  },
  {
   "cell_type": "markdown",
   "metadata": {},
   "source": [
    "Increase the number of step to 20 when you have successfully done 5 steps."
   ]
  },
  {
   "cell_type": "markdown",
   "metadata": {},
   "source": [
    "## Two dimentional random walk\n",
    "Simulate the same in two dimentional space. Plot the movement of the dot in the space.\n",
    "\n",
    "The position of the dot $\\boldsymbol{r}$ is described as:\n",
    "\n",
    "$$ \\boldsymbol{r}(t+1) = \n",
    " \\begin{cases}\n",
    "    \\boldsymbol{r}(t) + \\left(\n",
    "        \\begin{array}{c}\n",
    "            1\\\\0\n",
    "        \\end{array}\n",
    "    \\right)\\\\\n",
    "    \\boldsymbol{r}(t) + \\left(\n",
    "        \\begin{array}{c}\n",
    "            -1\\\\0\n",
    "        \\end{array}\n",
    "    \\right)\\\\\n",
    "    \\boldsymbol{r}(t) + \\left(\n",
    "        \\begin{array}{c}\n",
    "            0\\\\1\n",
    "        \\end{array}\n",
    "    \\right)\\\\\n",
    "    \\boldsymbol{r}(t) + \\left(\n",
    "        \\begin{array}{c}\n",
    "            0\\\\-1\n",
    "        \\end{array}\n",
    "    \\right)\n",
    " \\end{cases}\n",
    "$$"
   ]
  },
  {
   "cell_type": "markdown",
   "metadata": {},
   "source": [
    "## Advanced: three dimentional randam walk\n",
    "Simulate the same in three dimentiaonl space and plot the movement in the three dimentional space."
   ]
  }
 ],
 "metadata": {
  "kernelspec": {
   "display_name": "Python 3",
   "language": "python",
   "name": "python3"
  },
  "language_info": {
   "codemirror_mode": {
    "name": "ipython",
    "version": 3
   },
   "file_extension": ".py",
   "mimetype": "text/x-python",
   "name": "python",
   "nbconvert_exporter": "python",
   "pygments_lexer": "ipython3",
   "version": "3.7.4"
  },
  "toc": {
   "base_numbering": 1,
   "nav_menu": {},
   "number_sections": true,
   "sideBar": false,
   "skip_h1_title": true,
   "title_cell": "Table of Contents",
   "title_sidebar": "Contents",
   "toc_cell": true,
   "toc_position": {},
   "toc_section_display": true,
   "toc_window_display": false
  }
 },
 "nbformat": 4,
 "nbformat_minor": 4
}
