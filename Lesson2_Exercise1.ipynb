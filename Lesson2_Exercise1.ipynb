{
 "cells": [
  {
   "cell_type": "markdown",
   "metadata": {
    "toc": true
   },
   "source": [
    "<h1>Table of Contents<span class=\"tocSkip\"></span></h1>\n",
    "<div class=\"toc\"><ul class=\"toc-item\"><li><span><a href=\"#One-dimentional-random-walk\" data-toc-modified-id=\"One-dimentional-random-walk-1\"><span class=\"toc-item-num\">1&nbsp;&nbsp;</span>One dimentional random walk</a></span></li><li><span><a href=\"#Two-dimentional-random-walk\" data-toc-modified-id=\"Two-dimentional-random-walk-2\"><span class=\"toc-item-num\">2&nbsp;&nbsp;</span>Two dimentional random walk</a></span></li><li><span><a href=\"#Advanced:-three-dimentional-randam-walk\" data-toc-modified-id=\"Advanced:-three-dimentional-randam-walk-3\"><span class=\"toc-item-num\">3&nbsp;&nbsp;</span>Advanced: three dimentional randam walk</a></span></li><li><span><a href=\"#Hint\" data-toc-modified-id=\"Hint-4\"><span class=\"toc-item-num\">4&nbsp;&nbsp;</span>Hint</a></span></li></ul></div>"
   ]
  },
  {
   "cell_type": "markdown",
   "metadata": {},
   "source": [
    "# Lesson 2 - Exercise 1\n",
    "## One dimentional random walk\n",
    "Simulate 5-step one dimentional random walk in an array and plot in \\$x-t\\$ graph:\n",
    "\n",
    "- a dot is positioned at \\$x = 0\\$ at \\$t = 0\\$\n",
    "\n",
    "- every second the dot moves either left or right at 50% probability *i.e.*"
   ]
  },
  {
   "cell_type": "markdown",
   "metadata": {},
   "source": [
    "$$\n",
    "    x(t+1) =\n",
    "        \\begin{cases}\n",
    "            x(t)+1 \\\\\n",
    "            x(t)-1 \\\\\n",
    "        \\end{cases}\n",
    "$$"
   ]
  },
  {
   "cell_type": "markdown",
   "metadata": {},
   "source": [
    "Increase the number of step to 20 when you have successfully done 5 steps."
   ]
  },
  {
   "cell_type": "markdown",
   "metadata": {},
   "source": [
    "## Two dimentional random walk\n",
    "Simulate the same in two dimentional space. Plot the movement of the dot in the space."
   ]
  },
  {
   "cell_type": "markdown",
   "metadata": {},
   "source": [
    "## Advanced: three dimentional randam walk\n",
    "Simulate the same in three dimentiaonl space and plot the movement in the three dimentional space."
   ]
  },
  {
   "cell_type": "markdown",
   "metadata": {},
   "source": [
    "## Hint\n",
    "- It's easier to create an array of `[[time], [x-position], [y-position], [z-position]]` for plotting\n",
    "- To add texts in the plotting area, refer to `matplotlib.pyplot.annotate`"
   ]
  }
 ],
 "metadata": {
  "kernelspec": {
   "display_name": "Python 3",
   "language": "python",
   "name": "python3"
  },
  "language_info": {
   "codemirror_mode": {
    "name": "ipython",
    "version": 3
   },
   "file_extension": ".py",
   "mimetype": "text/x-python",
   "name": "python",
   "nbconvert_exporter": "python",
   "pygments_lexer": "ipython3",
   "version": "3.7.4"
  },
  "toc": {
   "base_numbering": 1,
   "nav_menu": {},
   "number_sections": true,
   "sideBar": false,
   "skip_h1_title": true,
   "title_cell": "Table of Contents",
   "title_sidebar": "Contents",
   "toc_cell": true,
   "toc_position": {},
   "toc_section_display": true,
   "toc_window_display": false
  }
 },
 "nbformat": 4,
 "nbformat_minor": 4
}
