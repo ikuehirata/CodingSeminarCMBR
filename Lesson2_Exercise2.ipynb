{
 "cells": [
  {
   "cell_type": "markdown",
   "metadata": {},
   "source": [
    "# Lesson 2 - Exercise 2\n",
    "## Throwing simulation\n",
    "Three objects are dropped from height. Ball 1 is made of iron (density 7.87 g/cm<sup>3</sup>) and the diameter is 1 m, ball 2 made of same iron and the diameter 10 cm, ball 3 a ping pong ball (weight 2.7 g) and the diameter 4 cm. All are perfect spheres.\n",
    "\n",
    "1. Draw a velocity-time graph of the two objects, provided the velocity of the objects is given by below:\n",
    "    1. Both objects follow Newton's motion equation\n",
    "        $$m a = m g - F_d$$\n",
    "        where $m$ is the weight of the object, $a$ the acceleration, \n",
    "        $g$ the gravitational acceleration 9.8 m/s<sup>2</sup>, $F_d$ the air resistance, given no other disturbance.\n",
    "    2. Air resistance $F_d$ is given by\n",
    "        $$ F_d = \\frac{1}{2} C_d \\rho \\pi R^2 v^2 $$\n",
    "where $C_d$ is the drag coefficient 0.47 for all the objects, $\\rho$ the density of the air 1.205 kg/m<sup>3</sup>, $R$ the diameter of the sphere, $v$ the velocity of the object.\n",
    "\n",
    "\n",
    "2. The objects are dropped from a height 57 m. Obtain the time when each ball hits the ground and draw a height-time graph of the two objects."
   ]
  }
 ],
 "metadata": {
  "kernelspec": {
   "display_name": "Python 3",
   "language": "python",
   "name": "python3"
  },
  "language_info": {
   "codemirror_mode": {
    "name": "ipython",
    "version": 3
   },
   "file_extension": ".py",
   "mimetype": "text/x-python",
   "name": "python",
   "nbconvert_exporter": "python",
   "pygments_lexer": "ipython3",
   "version": "3.7.4"
  },
  "toc": {
   "base_numbering": 1,
   "nav_menu": {},
   "number_sections": true,
   "sideBar": false,
   "skip_h1_title": true,
   "title_cell": "Table of Contents",
   "title_sidebar": "Contents",
   "toc_cell": true,
   "toc_position": {},
   "toc_section_display": true,
   "toc_window_display": false
  }
 },
 "nbformat": 4,
 "nbformat_minor": 4
}
