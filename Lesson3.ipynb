{
 "cells": [
  {
   "cell_type": "markdown",
   "metadata": {},
   "source": [
    "# Lesson 3: Handling real-world data"
   ]
  },
  {
   "cell_type": "markdown",
   "metadata": {
    "toc": true
   },
   "source": [
    "<h1>Table of Contents<span class=\"tocSkip\"></span></h1>\n",
    "<div class=\"toc\"><ul class=\"toc-item\"><li><span><a href=\"#Data-input-and-processing\" data-toc-modified-id=\"Data-input-and-processing-1\"><span class=\"toc-item-num\">1&nbsp;&nbsp;</span>Data input and processing</a></span><ul class=\"toc-item\"><li><span><a href=\"#Reading-external-file\" data-toc-modified-id=\"Reading-external-file-1.1\"><span class=\"toc-item-num\">1.1&nbsp;&nbsp;</span>Reading external file</a></span></li><li><span><a href=\"#Data-processing\" data-toc-modified-id=\"Data-processing-1.2\"><span class=\"toc-item-num\">1.2&nbsp;&nbsp;</span>Data processing</a></span><ul class=\"toc-item\"><li><span><a href=\"#Theoreticacl-background\" data-toc-modified-id=\"Theoreticacl-background-1.2.1\"><span class=\"toc-item-num\">1.2.1&nbsp;&nbsp;</span>Theoreticacl background</a></span></li></ul></li></ul></li><li><span><a href=\"#Exercise-0-1\" data-toc-modified-id=\"Exercise-0-1-2\"><span class=\"toc-item-num\">2&nbsp;&nbsp;</span>Exercise 0-1</a></span><ul class=\"toc-item\"><li><span><a href=\"#Preparation-for-fitting\" data-toc-modified-id=\"Preparation-for-fitting-2.1\"><span class=\"toc-item-num\">2.1&nbsp;&nbsp;</span>Preparation for fitting</a></span></li></ul></li><li><span><a href=\"#More-about-plotting\" data-toc-modified-id=\"More-about-plotting-3\"><span class=\"toc-item-num\">3&nbsp;&nbsp;</span>More about plotting</a></span></li><li><span><a href=\"#Exercise-0-2\" data-toc-modified-id=\"Exercise-0-2-4\"><span class=\"toc-item-num\">4&nbsp;&nbsp;</span>Exercise 0-2</a></span></li><li><span><a href=\"#Multiple-file-process\" data-toc-modified-id=\"Multiple-file-process-5\"><span class=\"toc-item-num\">5&nbsp;&nbsp;</span>Multiple file process</a></span></li><li><span><a href=\"#Debugger/debugging\" data-toc-modified-id=\"Debugger/debugging-6\"><span class=\"toc-item-num\">6&nbsp;&nbsp;</span>Debugger/debugging</a></span></li><li><span><a href=\"#Error-handing\" data-toc-modified-id=\"Error-handing-7\"><span class=\"toc-item-num\">7&nbsp;&nbsp;</span>Error handing</a></span><ul class=\"toc-item\"><li><span><a href=\"#try-and-except\" data-toc-modified-id=\"try-and-except-7.1\"><span class=\"toc-item-num\">7.1&nbsp;&nbsp;</span><code>try</code> and <code>except</code></a></span></li></ul></li><li><span><a href=\"#Exercise-1\" data-toc-modified-id=\"Exercise-1-8\"><span class=\"toc-item-num\">8&nbsp;&nbsp;</span>Exercise 1</a></span></li><li><span><a href=\"#References\" data-toc-modified-id=\"References-9\"><span class=\"toc-item-num\">9&nbsp;&nbsp;</span>References</a></span></li><li><span><a href=\"#For-further-learning\" data-toc-modified-id=\"For-further-learning-10\"><span class=\"toc-item-num\">10&nbsp;&nbsp;</span>For further learning</a></span></li></ul></div>"
   ]
  },
  {
   "cell_type": "markdown",
   "metadata": {},
   "source": [
    "## Data input and processing\n",
    "### Reading external file\n",
    "You can read out your experimental data, stored as text style (`.txt`, `.csv`, `.tsv`, and like) by using `numpy.loadtxt`.\n",
    "Let's read a file that stores data of impedance measurement."
   ]
  },
  {
   "cell_type": "code",
   "execution_count": 1,
   "metadata": {},
   "outputs": [
    {
     "name": "stdout",
     "output_type": "stream",
     "text": [
      "[[ 2.00000e+01  9.04909e+05 -8.85148e+01  0.00000e+00  0.00000e+00]\n",
      " [ 2.00000e+01  9.54938e+05 -8.75136e+01  0.00000e+00  0.00000e+00]\n",
      " [ 2.00000e+01  9.34201e+05 -8.60863e+01  0.00000e+00  0.00000e+00]\n",
      " [ 2.00000e+01  9.25598e+05 -8.47966e+01  0.00000e+00  0.00000e+00]\n",
      " [ 2.00000e+01  9.23228e+05 -8.54492e+01  0.00000e+00  0.00000e+00]\n",
      " [ 2.00000e+01  9.06668e+05 -8.71257e+01  0.00000e+00  0.00000e+00]\n",
      " [ 2.00000e+01  8.95160e+05 -8.77635e+01  0.00000e+00  0.00000e+00]\n",
      " [ 2.09894e+01  8.60612e+05 -8.75668e+01  0.00000e+00  0.00000e+00]\n",
      " [ 2.33346e+01  7.97419e+05 -8.60989e+01  0.00000e+00  0.00000e+00]\n",
      " [ 2.59418e+01  7.14797e+05 -8.72231e+01  0.00000e+00  0.00000e+00]\n",
      " [ 2.88403e+01  6.49133e+05 -8.68909e+01  0.00000e+00  0.00000e+00]\n",
      " [ 3.20627e+01  6.16155e+05 -8.64910e+01  0.00000e+00  0.00000e+00]\n",
      " [ 3.56451e+01  5.02933e+05 -8.45073e+01  0.00000e+00  0.00000e+00]\n",
      " [ 3.96278e+01  4.78947e+05 -8.75882e+01  0.00000e+00  0.00000e+00]\n",
      " [ 4.40555e+01  4.11646e+05 -8.82556e+01  0.00000e+00  0.00000e+00]\n",
      " [ 4.89779e+01  3.98369e+05 -8.24942e+01  0.00000e+00  0.00000e+00]\n",
      " [ 5.44503e+01  3.58520e+05 -8.43838e+01  0.00000e+00  0.00000e+00]\n",
      " [ 6.05341e+01  3.16935e+05 -8.65025e+01  0.00000e+00  0.00000e+00]\n",
      " [ 6.72977e+01  2.82222e+05 -8.68214e+01  0.00000e+00  0.00000e+00]\n",
      " [ 7.48170e+01  2.59659e+05 -8.72197e+01  0.00000e+00  0.00000e+00]\n",
      " [ 8.31764e+01  2.29864e+05 -8.69820e+01  0.00000e+00  0.00000e+00]\n",
      " [ 9.24698e+01  2.15615e+05 -8.66897e+01  0.00000e+00  0.00000e+00]\n",
      " [ 1.02802e+02  1.90543e+05 -8.77948e+01  0.00000e+00  0.00000e+00]\n",
      " [ 1.14288e+02  1.71380e+05 -8.71808e+01  0.00000e+00  0.00000e+00]\n",
      " [ 1.27057e+02  1.55308e+05 -8.70119e+01  0.00000e+00  0.00000e+00]\n",
      " [ 1.41254e+02  1.39732e+05 -8.69861e+01  0.00000e+00  0.00000e+00]\n",
      " [ 1.57036e+02  1.26315e+05 -8.69746e+01  0.00000e+00  0.00000e+00]\n",
      " [ 1.74582e+02  1.14007e+05 -8.69435e+01  0.00000e+00  0.00000e+00]\n",
      " [ 1.94089e+02  1.02803e+05 -8.69392e+01  0.00000e+00  0.00000e+00]\n",
      " [ 2.15774e+02  9.27747e+04 -8.69000e+01  0.00000e+00  0.00000e+00]\n",
      " [ 2.39883e+02  8.37466e+04 -8.68834e+01  0.00000e+00  0.00000e+00]\n",
      " [ 2.66686e+02  7.55820e+04 -8.68584e+01  0.00000e+00  0.00000e+00]\n",
      " [ 2.96483e+02  6.81950e+04 -8.68335e+01  0.00000e+00  0.00000e+00]\n",
      " [ 3.29610e+02  6.15654e+04 -8.68010e+01  0.00000e+00  0.00000e+00]\n",
      " [ 3.66438e+02  5.55656e+04 -8.67566e+01  0.00000e+00  0.00000e+00]\n",
      " [ 4.07380e+02  5.01393e+04 -8.67152e+01  0.00000e+00  0.00000e+00]\n",
      " [ 4.52898e+02  4.52409e+04 -8.66662e+01  0.00000e+00  0.00000e+00]\n",
      " [ 5.03501e+02  4.08288e+04 -8.66183e+01  0.00000e+00  0.00000e+00]\n",
      " [ 5.59758e+02  3.68414e+04 -8.65608e+01  0.00000e+00  0.00000e+00]\n",
      " [ 6.22300e+02  3.32478e+04 -8.64850e+01  0.00000e+00  0.00000e+00]\n",
      " [ 6.91831e+02  3.00057e+04 -8.64011e+01  0.00000e+00  0.00000e+00]\n",
      " [ 7.69130e+02  2.70783e+04 -8.63140e+01  0.00000e+00  0.00000e+00]\n",
      " [ 8.55067e+02  2.44337e+04 -8.62217e+01  0.00000e+00  0.00000e+00]\n",
      " [ 9.50605e+02  2.20531e+04 -8.61046e+01  0.00000e+00  0.00000e+00]\n",
      " [ 1.05682e+03  1.98987e+04 -8.59913e+01  0.00000e+00  0.00000e+00]\n",
      " [ 1.17490e+03  1.79594e+04 -8.58513e+01  0.00000e+00  0.00000e+00]\n",
      " [ 1.30617e+03  1.62110e+04 -8.56982e+01  0.00000e+00  0.00000e+00]\n",
      " [ 1.45211e+03  1.46293e+04 -8.55291e+01  0.00000e+00  0.00000e+00]\n",
      " [ 1.61436e+03  1.32057e+04 -8.53406e+01  0.00000e+00  0.00000e+00]\n",
      " [ 1.79473e+03  1.19155e+04 -8.51300e+01  0.00000e+00  0.00000e+00]\n",
      " [ 1.99526e+03  1.07577e+04 -8.48958e+01  0.00000e+00  0.00000e+00]\n",
      " [ 2.21820e+03  9.71048e+03 -8.46368e+01  0.00000e+00  0.00000e+00]\n",
      " [ 2.46604e+03  8.76539e+03 -8.43464e+01  0.00000e+00  0.00000e+00]\n",
      " [ 2.74157e+03  7.91264e+03 -8.40303e+01  0.00000e+00  0.00000e+00]\n",
      " [ 3.04789e+03  7.14574e+03 -8.36764e+01  0.00000e+00  0.00000e+00]\n",
      " [ 3.38844e+03  6.45327e+03 -8.32835e+01  0.00000e+00  0.00000e+00]\n",
      " [ 3.76704e+03  5.82761e+03 -8.28446e+01  0.00000e+00  0.00000e+00]\n",
      " [ 4.18794e+03  5.26397e+03 -8.23643e+01  0.00000e+00  0.00000e+00]\n",
      " [ 4.65586e+03  4.75582e+03 -8.18323e+01  0.00000e+00  0.00000e+00]\n",
      " [ 5.17607e+03  4.29792e+03 -8.12470e+01  0.00000e+00  0.00000e+00]\n",
      " [ 5.75440e+03  3.88522e+03 -8.05975e+01  0.00000e+00  0.00000e+00]\n",
      " [ 6.39735e+03  3.51309e+03 -7.98802e+01  0.00000e+00  0.00000e+00]\n",
      " [ 7.11214e+03  3.17792e+03 -7.90876e+01  0.00000e+00  0.00000e+00]\n",
      " [ 7.90679e+03  2.87610e+03 -7.82139e+01  0.00000e+00  0.00000e+00]\n",
      " [ 8.79023e+03  2.60482e+03 -7.72534e+01  0.00000e+00  0.00000e+00]\n",
      " [ 9.77237e+03  2.36064e+03 -7.61986e+01  0.00000e+00  0.00000e+00]\n",
      " [ 1.08643e+04  2.14178e+03 -7.50441e+01  0.00000e+00  0.00000e+00]\n",
      " [ 1.20781e+04  1.94361e+03 -7.37650e+01  0.00000e+00  0.00000e+00]\n",
      " [ 1.34276e+04  1.76670e+03 -7.23731e+01  0.00000e+00  0.00000e+00]\n",
      " [ 1.49279e+04  1.60824e+03 -7.08577e+01  0.00000e+00  0.00000e+00]\n",
      " [ 1.65959e+04  1.46612e+03 -6.92122e+01  0.00000e+00  0.00000e+00]\n",
      " [ 1.84502e+04  1.33965e+03 -6.74317e+01  0.00000e+00  0.00000e+00]\n",
      " [ 2.05116e+04  1.22663e+03 -6.55057e+01  0.00000e+00  0.00000e+00]\n",
      " [ 2.28034e+04  1.12604e+03 -6.34395e+01  0.00000e+00  0.00000e+00]\n",
      " [ 2.53513e+04  1.03654e+03 -6.12340e+01  0.00000e+00  0.00000e+00]]\n"
     ]
    }
   ],
   "source": [
    "import numpy as np\n",
    "data = np.loadtxt(\"data0.csv\", delimiter='\\t')\n",
    "print(data)"
   ]
  },
  {
   "cell_type": "markdown",
   "metadata": {},
   "source": [
    "Sometimes the data have many unnecessary parts - you can omit them by using options. For details see the official documentation."
   ]
  },
  {
   "cell_type": "code",
   "execution_count": 2,
   "metadata": {
    "scrolled": true
   },
   "outputs": [
    {
     "name": "stdout",
     "output_type": "stream",
     "text": [
      "[[ 2.00000e+01  9.04909e+05 -8.85148e+01]\n",
      " [ 2.00000e+01  9.54938e+05 -8.75136e+01]\n",
      " [ 2.00000e+01  9.34201e+05 -8.60863e+01]\n",
      " [ 2.00000e+01  9.25598e+05 -8.47966e+01]\n",
      " [ 2.00000e+01  9.23228e+05 -8.54492e+01]\n",
      " [ 2.00000e+01  9.06668e+05 -8.71257e+01]\n",
      " [ 2.00000e+01  8.95160e+05 -8.77635e+01]\n",
      " [ 2.09894e+01  8.60612e+05 -8.75668e+01]\n",
      " [ 2.33346e+01  7.97419e+05 -8.60989e+01]\n",
      " [ 2.59418e+01  7.14797e+05 -8.72231e+01]\n",
      " [ 2.88403e+01  6.49133e+05 -8.68909e+01]\n",
      " [ 3.20627e+01  6.16155e+05 -8.64910e+01]\n",
      " [ 3.56451e+01  5.02933e+05 -8.45073e+01]\n",
      " [ 3.96278e+01  4.78947e+05 -8.75882e+01]\n",
      " [ 4.40555e+01  4.11646e+05 -8.82556e+01]\n",
      " [ 4.89779e+01  3.98369e+05 -8.24942e+01]\n",
      " [ 5.44503e+01  3.58520e+05 -8.43838e+01]\n",
      " [ 6.05341e+01  3.16935e+05 -8.65025e+01]\n",
      " [ 6.72977e+01  2.82222e+05 -8.68214e+01]\n",
      " [ 7.48170e+01  2.59659e+05 -8.72197e+01]\n",
      " [ 8.31764e+01  2.29864e+05 -8.69820e+01]\n",
      " [ 9.24698e+01  2.15615e+05 -8.66897e+01]\n",
      " [ 1.02802e+02  1.90543e+05 -8.77948e+01]\n",
      " [ 1.14288e+02  1.71380e+05 -8.71808e+01]\n",
      " [ 1.27057e+02  1.55308e+05 -8.70119e+01]\n",
      " [ 1.41254e+02  1.39732e+05 -8.69861e+01]\n",
      " [ 1.57036e+02  1.26315e+05 -8.69746e+01]\n",
      " [ 1.74582e+02  1.14007e+05 -8.69435e+01]\n",
      " [ 1.94089e+02  1.02803e+05 -8.69392e+01]\n",
      " [ 2.15774e+02  9.27747e+04 -8.69000e+01]\n",
      " [ 2.39883e+02  8.37466e+04 -8.68834e+01]\n",
      " [ 2.66686e+02  7.55820e+04 -8.68584e+01]\n",
      " [ 2.96483e+02  6.81950e+04 -8.68335e+01]\n",
      " [ 3.29610e+02  6.15654e+04 -8.68010e+01]\n",
      " [ 3.66438e+02  5.55656e+04 -8.67566e+01]\n",
      " [ 4.07380e+02  5.01393e+04 -8.67152e+01]\n",
      " [ 4.52898e+02  4.52409e+04 -8.66662e+01]\n",
      " [ 5.03501e+02  4.08288e+04 -8.66183e+01]\n",
      " [ 5.59758e+02  3.68414e+04 -8.65608e+01]\n",
      " [ 6.22300e+02  3.32478e+04 -8.64850e+01]\n",
      " [ 6.91831e+02  3.00057e+04 -8.64011e+01]\n",
      " [ 7.69130e+02  2.70783e+04 -8.63140e+01]\n",
      " [ 8.55067e+02  2.44337e+04 -8.62217e+01]\n",
      " [ 9.50605e+02  2.20531e+04 -8.61046e+01]\n",
      " [ 1.05682e+03  1.98987e+04 -8.59913e+01]\n",
      " [ 1.17490e+03  1.79594e+04 -8.58513e+01]\n",
      " [ 1.30617e+03  1.62110e+04 -8.56982e+01]\n",
      " [ 1.45211e+03  1.46293e+04 -8.55291e+01]\n",
      " [ 1.61436e+03  1.32057e+04 -8.53406e+01]\n",
      " [ 1.79473e+03  1.19155e+04 -8.51300e+01]\n",
      " [ 1.99526e+03  1.07577e+04 -8.48958e+01]\n",
      " [ 2.21820e+03  9.71048e+03 -8.46368e+01]\n",
      " [ 2.46604e+03  8.76539e+03 -8.43464e+01]\n",
      " [ 2.74157e+03  7.91264e+03 -8.40303e+01]\n",
      " [ 3.04789e+03  7.14574e+03 -8.36764e+01]\n",
      " [ 3.38844e+03  6.45327e+03 -8.32835e+01]\n",
      " [ 3.76704e+03  5.82761e+03 -8.28446e+01]\n",
      " [ 4.18794e+03  5.26397e+03 -8.23643e+01]\n",
      " [ 4.65586e+03  4.75582e+03 -8.18323e+01]\n",
      " [ 5.17607e+03  4.29792e+03 -8.12470e+01]\n",
      " [ 5.75440e+03  3.88522e+03 -8.05975e+01]\n",
      " [ 6.39735e+03  3.51309e+03 -7.98802e+01]\n",
      " [ 7.11214e+03  3.17792e+03 -7.90876e+01]\n",
      " [ 7.90679e+03  2.87610e+03 -7.82139e+01]\n",
      " [ 8.79023e+03  2.60482e+03 -7.72534e+01]\n",
      " [ 9.77237e+03  2.36064e+03 -7.61986e+01]\n",
      " [ 1.08643e+04  2.14178e+03 -7.50441e+01]\n",
      " [ 1.20781e+04  1.94361e+03 -7.37650e+01]\n",
      " [ 1.34276e+04  1.76670e+03 -7.23731e+01]\n",
      " [ 1.49279e+04  1.60824e+03 -7.08577e+01]\n",
      " [ 1.65959e+04  1.46612e+03 -6.92122e+01]\n",
      " [ 1.84502e+04  1.33965e+03 -6.74317e+01]\n",
      " [ 2.05116e+04  1.22663e+03 -6.55057e+01]\n",
      " [ 2.28034e+04  1.12604e+03 -6.34395e+01]\n",
      " [ 2.53513e+04  1.03654e+03 -6.12340e+01]]\n"
     ]
    }
   ],
   "source": [
    "data = np.loadtxt(\"data0.csv\", delimiter=\"\\t\",\n",
    "                  usecols=[0,1,2])\n",
    "print(data)"
   ]
  },
  {
   "cell_type": "markdown",
   "metadata": {},
   "source": [
    "### Data processing \n",
    "Now we have 3 columns. `data[:,0]` is the frequency $f$, `data[:,1]` the impedance $Z$, `data[:,2]` the phase $\\phi$.\n",
    "\n",
    "#### Theoreticacl background\n",
    "In the impedance measurement, above values are described in the following equation\n",
    "$$ Z = \\frac{1}{j \\omega C} = \\frac{1}{j \\cdot 2 \\pi f C} $$\n",
    "where $Z$ is the impedance, $j$ imaginary number (in electronics we use $j$ instead of $i$, for we use $i$ for the current,) $\\omega$ the angular frequency, $f$ the frequency, $C$ the capacitance.\n",
    "\n",
    "## Exercise 0-1\n",
    "Run fitting and extract the value $C$ from the data.\n",
    "\n",
    "### Preparation for fitting\n",
    "Now we want to fit the experimental value to the theoretical formula and want to extract the $C$ value. Python provides several methods for fitting and this case we use `numpy.polynomial.polynomial.polyfit` that returns an array of coefficients of polynomial function fit to input `y` at point `x` using least square method. Unfortunately this function works only with polynomial functions, so we use a small trick for the original data as below:\n",
    "$$\n",
    "\\log Z = - \\log (2 \\pi f C )\n",
    "$$"
   ]
  },
  {
   "cell_type": "code",
   "execution_count": 3,
   "metadata": {},
   "outputs": [
    {
     "name": "stdout",
     "output_type": "stream",
     "text": [
      "[16.60429901 -0.96116536]\n"
     ]
    }
   ],
   "source": [
    "logz = np.log(data[:,1])\n",
    "logf = np.log(data[:,0])\n",
    "from numpy.polynomial import polynomial as P\n",
    "p = P.polyfit(logf, logz, 1)\n",
    "print(p)"
   ]
  },
  {
   "cell_type": "markdown",
   "metadata": {},
   "source": [
    "which means the input can be explained as\n",
    "$$ y = 16.60429901 - 0.96116536 x$$.\n",
    "\n",
    "To save the parameters (or any `numpy.array` you wish,) `np.savetxt` command saves the object in plain text."
   ]
  },
  {
   "cell_type": "code",
   "execution_count": 4,
   "metadata": {},
   "outputs": [],
   "source": [
    "np.savetxt(\"parameters.csv\", p, delimiter=\"\\t\")"
   ]
  },
  {
   "cell_type": "markdown",
   "metadata": {},
   "source": [
    "## More about plotting\n",
    "After fitting, let's visualize what we did. Normally the result of an impedance measurement is shown in Bode plot:\n",
    "- X axis for frequency $f$ in logarithmic scale;\n",
    "- Y1 axis for impedance $|Z|$ in logarithmic scale;\n",
    "- Y2 axis for phase $\\phi$ in linear scale.\n",
    "\n",
    "Add the fitting result to the original data.\n",
    "\n",
    "## Exercise 0-2\n",
    "1. Make a bode plot of the data. \n",
    "2. Add the fit value as well.\n",
    "3. Calculate the value $C$."
   ]
  },
  {
   "cell_type": "code",
   "execution_count": 5,
   "metadata": {
    "scrolled": true
   },
   "outputs": [
    {
     "data": {
      "image/png": "[encoded data removed]",
      "text/plain": [
       "<Figure size 432x288 with 2 Axes>"
      ]
     },
     "metadata": {
      "needs_background": "light"
     },
     "output_type": "display_data"
    },
    {
     "data": {
      "text/plain": [
       "<Figure size 432x288 with 0 Axes>"
      ]
     },
     "metadata": {},
     "output_type": "display_data"
    }
   ],
   "source": [
    "%matplotlib inline\n",
    "import matplotlib.pyplot as plt\n",
    "fig, ax = plt.subplots()\n",
    "ax.plot(data[:,0], data[:,1], color=\"b\")\n",
    "ax.set_xscale(\"log\")\n",
    "ax.set_yscale(\"log\")\n",
    "ax2 = ax.twinx()\n",
    "ax2.plot(data[:,0], data[:,2], color=\"g\")\n",
    "ax.set_xlabel(\"Frequency (Hz)\")\n",
    "ax.set_ylabel(\"|Z| ($\\Omega$)\", color=\"b\")\n",
    "ax2.set_ylabel(\"$\\phi$ (deg)\", color=\"g\")\n",
    "ax2.set_ylim((-90, 0))\n",
    "\n",
    "fitz = np.exp(p[0] + p[1] * logf)\n",
    "ax.plot(data[:,0], fitz, color=\"r\")\n",
    "plt.show()\n",
    "plt.savefig(\"impedancefit.png\")"
   ]
  },
  {
   "cell_type": "markdown",
   "metadata": {},
   "source": [
    "## Multiple file process\n",
    "Now that we managed to process one file, we expand this process to other `.csv` files using `glob` package. After this point, I recommend the use of a certain editor for the easiness of editing/debugging. For details, see the PDF.\n",
    "Some example `.py` files are stored in the [folder](https://github.com/ikuehirata/CodingSeminarCMBR/tree/master/lesson3-data) for reference.\n",
    "\n",
    "## Debugger/debugging\n",
    "When the code gets longer, you cannot find the source of an error easily. Debugger helps you resolve such problems by shoinwg variable values and called stacks.\n",
    "\n",
    "## Error handing\n",
    "### `try` and `except`\n",
    "It is very likely you face some unexpected errors while reading external files. If an critical error occurs, the whole process stops."
   ]
  },
  {
   "cell_type": "code",
   "execution_count": 6,
   "metadata": {
    "scrolled": true
   },
   "outputs": [
    {
     "name": "stdout",
     "output_type": "stream",
     "text": [
      "[1, 2, 3, 0]\n",
      "1 1.0\n",
      "2 0.5\n",
      "3 0.3333333333333333\n"
     ]
    },
    {
     "ename": "ZeroDivisionError",
     "evalue": "division by zero",
     "output_type": "error",
     "traceback": [
      "\u001b[1;31m---------------------------------------------------------------------------\u001b[0m",
      "\u001b[1;31mZeroDivisionError\u001b[0m                         Traceback (most recent call last)",
      "\u001b[1;32m<ipython-input-6-d8aa3340524a>\u001b[0m in \u001b[0;36m<module>\u001b[1;34m\u001b[0m\n\u001b[0;32m      2\u001b[0m \u001b[0mprint\u001b[0m\u001b[1;33m(\u001b[0m\u001b[0mnum\u001b[0m\u001b[1;33m)\u001b[0m\u001b[1;33m\u001b[0m\u001b[1;33m\u001b[0m\u001b[0m\n\u001b[0;32m      3\u001b[0m \u001b[1;32mfor\u001b[0m \u001b[0mn\u001b[0m \u001b[1;32min\u001b[0m \u001b[0mnum\u001b[0m\u001b[1;33m:\u001b[0m\u001b[1;33m\u001b[0m\u001b[1;33m\u001b[0m\u001b[0m\n\u001b[1;32m----> 4\u001b[1;33m     \u001b[0mprint\u001b[0m\u001b[1;33m(\u001b[0m\u001b[0mn\u001b[0m\u001b[1;33m,\u001b[0m \u001b[1;36m1\u001b[0m\u001b[1;33m/\u001b[0m\u001b[0mn\u001b[0m\u001b[1;33m)\u001b[0m\u001b[1;33m\u001b[0m\u001b[1;33m\u001b[0m\u001b[0m\n\u001b[0m\u001b[0;32m      5\u001b[0m \u001b[0mprint\u001b[0m\u001b[1;33m(\u001b[0m\u001b[1;34m\"end of code\"\u001b[0m\u001b[1;33m)\u001b[0m\u001b[1;33m\u001b[0m\u001b[1;33m\u001b[0m\u001b[0m\n",
      "\u001b[1;31mZeroDivisionError\u001b[0m: division by zero"
     ]
    }
   ],
   "source": [
    "num = [1, 2, 3, 0]\n",
    "print(num)\n",
    "for n in num:\n",
    "    print(n, 1/n)\n",
    "print(\"end of code\")"
   ]
  },
  {
   "cell_type": "markdown",
   "metadata": {},
   "source": [
    "To skip the part and continue the process, you can use `try` and `except` to catch the error. In the example below I use `Exception` as a wildcard for all the error types, but this can conceal any likely-to-occur errors, therefore use it with caution.\n",
    "\n",
    "Other useful commands are:\n",
    "- `pass` to do nothing within `except` block;;\n",
    "- `else` runs when there's no error;\n",
    "- `finally` to run in the end of process regardless of error."
   ]
  },
  {
   "cell_type": "code",
   "execution_count": 7,
   "metadata": {},
   "outputs": [
    {
     "name": "stdout",
     "output_type": "stream",
     "text": [
      "1 1.0\n",
      "no error occured\n",
      "process end\n",
      "2 0.5\n",
      "no error occured\n",
      "process end\n",
      "3 0.3333333333333333\n",
      "no error occured\n",
      "process end\n",
      "there's an error: division by zero\n",
      "process end\n",
      "end of code\n"
     ]
    }
   ],
   "source": [
    "for n in num:\n",
    "    try:\n",
    "        print(n, 1/n)\n",
    "    except Exception as e:\n",
    "        print(f\"there's an error: {e}\")\n",
    "    else:\n",
    "        print(\"no error occured\")\n",
    "    finally:\n",
    "        print(\"process end\")\n",
    "print(\"end of code\")"
   ]
  },
  {
   "cell_type": "markdown",
   "metadata": {},
   "source": [
    "## Exercise 1\n",
    "[Excercise file](https://github.com/ikuehirata/CodingSeminarCMBR/blob/master/Lesson3_Exercise1.ipynb)\n",
    "\n",
    "## References\n",
    "- [Official documentation](https://docs.python.org/3.7/)\n",
    "- [NumPy official documentation](https://numpy.org/)\n",
    "- [matplotlib official documentation](https://matplotlib.org/)\n",
    "- [Stack Overflow](https://stackoverflow.com/)\n",
    "- [Think Python: How to Think Like a Computer Scientist](http://greenteapress.com/thinkpython2/html/index.html)\n",
    "- [Google](http://google.com/)\n",
    "\n",
    "## For further learning\n",
    "- [codecademy Learn Python 2](https://www.codecademy.com/learn/learn-python)"
   ]
  }
 ],
 "metadata": {
  "kernelspec": {
   "display_name": "Python 3",
   "language": "python",
   "name": "python3"
  },
  "language_info": {
   "codemirror_mode": {
    "name": "ipython",
    "version": 3
   },
   "file_extension": ".py",
   "mimetype": "text/x-python",
   "name": "python",
   "nbconvert_exporter": "python",
   "pygments_lexer": "ipython3",
   "version": "3.7.4"
  },
  "toc": {
   "base_numbering": 1,
   "nav_menu": {},
   "number_sections": true,
   "sideBar": false,
   "skip_h1_title": true,
   "title_cell": "Table of Contents",
   "title_sidebar": "Contents",
   "toc_cell": true,
   "toc_position": {},
   "toc_section_display": true,
   "toc_window_display": false
  }
 },
 "nbformat": 4,
 "nbformat_minor": 4
}
