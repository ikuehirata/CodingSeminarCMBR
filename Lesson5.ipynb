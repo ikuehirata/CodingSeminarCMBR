{
 "cells": [
  {
   "cell_type": "markdown",
   "metadata": {},
   "source": [
    "# Lesson 5: Instrument control by PyVISA"
   ]
  },
  {
   "cell_type": "markdown",
   "metadata": {
    "toc": true
   },
   "source": [
    "<h1>Table of Contents<span class=\"tocSkip\"></span></h1>\n",
    "<div class=\"toc\"><ul class=\"toc-item\"><li><span><a href=\"#PyVISA\" data-toc-modified-id=\"PyVISA-1\"><span class=\"toc-item-num\">1&nbsp;&nbsp;</span>PyVISA</a></span></li><li><span><a href=\"#General-setup:-sys.argv\" data-toc-modified-id=\"General-setup:-sys.argv-2\"><span class=\"toc-item-num\">2&nbsp;&nbsp;</span>General setup: <code>sys.argv</code></a></span></li><li><span><a href=\"#Open-instrument\" data-toc-modified-id=\"Open-instrument-3\"><span class=\"toc-item-num\">3&nbsp;&nbsp;</span>Open instrument</a></span><ul class=\"toc-item\"><li><span><a href=\"#Obtain-the-address\" data-toc-modified-id=\"Obtain-the-address-3.1\"><span class=\"toc-item-num\">3.1&nbsp;&nbsp;</span>Obtain the address</a></span></li><li><span><a href=\"#Create-instrument-object\" data-toc-modified-id=\"Create-instrument-object-3.2\"><span class=\"toc-item-num\">3.2&nbsp;&nbsp;</span>Create instrument object</a></span></li></ul></li><li><span><a href=\"#Instrument-setup,-run-measurement\" data-toc-modified-id=\"Instrument-setup,-run-measurement-4\"><span class=\"toc-item-num\">4&nbsp;&nbsp;</span>Instrument setup, run measurement</a></span></li><li><span><a href=\"#References\" data-toc-modified-id=\"References-5\"><span class=\"toc-item-num\">5&nbsp;&nbsp;</span>References</a></span></li><li><span><a href=\"#For-further-learning\" data-toc-modified-id=\"For-further-learning-6\"><span class=\"toc-item-num\">6&nbsp;&nbsp;</span>For further learning</a></span></li></ul></div>"
   ]
  },
  {
   "cell_type": "markdown",
   "metadata": {},
   "source": [
    "## PyVISA\n",
    "First, we need `PyVISA` for communicating with instruments. Install the module following the [official documentation](https://pyvisa.readthedocs.io/en/latest/).\n",
    "\n",
    "We will perform the measurement procedure as below:\n",
    "1. General setup (file name and parameter settings)\n",
    "2. Open instrument\n",
    "3. Instrument setup, run measurement\n",
    "5. Save (and plot) \n",
    "\n",
    "## General setup: `sys.argv`\n",
    "If you repeat the same measurement again and again, most of the parameters, such as start/end voltage, averaging, etc., can be written in the code itself.\n",
    "On the other hand, parameters that are changed in every measurement, such as device names (to include in file name,) is better written outside of the code, not to open and edit the code every timie.\n",
    "For that, we use command line options and read them by`sys.argv`.\n",
    "\n",
    "`sysargvtest.py` has the code below:\n",
    "\n",
    "```python:sysargvtest.py\n",
    "import sys\n",
    "for (i, e) in enumerate(sys.argv):\n",
    "    print(f\"sys.argv[{i}] is {e}\")\n",
    "```\n",
    "\n",
    "Running this from a terminal gives the results below:"
   ]
  },
  {
   "cell_type": "code",
   "execution_count": 1,
   "metadata": {
    "scrolled": true
   },
   "outputs": [
    {
     "name": "stdout",
     "output_type": "stream",
     "text": [
      "sys.argv[0] is Lesson5/sysargvtest.py\n",
      "sys.argv[1] is a\n",
      "sys.argv[2] is b\n",
      "sys.argv[3] is c\n",
      "sys.argv[4] is d\n",
      "sys.argv[5] is e\n"
     ]
    }
   ],
   "source": [
    "!python Lesson5/sysargvtest.py a b c d e"
   ]
  },
  {
   "cell_type": "markdown",
   "metadata": {},
   "source": [
    "All the command-line options are put into the list `sys.argv`. You can put any values you prefer here. In this way you do not need to open and edit the code every time.\n",
    "## Open instrument\n",
    "### Obtain the address\n",
    "In this step we make the PC recognize the connected instrument.\n",
    "First, check the instrument manual to confirm that the machine accepts remote control. Then obtain the address of all the connected instruments by the code below."
   ]
  },
  {
   "cell_type": "code",
   "execution_count": 2,
   "metadata": {},
   "outputs": [
    {
     "data": {
      "text/plain": [
       "('USB0::0x0957::0x0909::MY46204132::0::INSTR',)"
      ]
     },
     "execution_count": 2,
     "metadata": {},
     "output_type": "execute_result"
    }
   ],
   "source": [
    "import pyvisa\n",
    "rm = pyvisa.ResourceManager()\n",
    "rm.list_resources()"
   ]
  },
  {
   "cell_type": "markdown",
   "metadata": {},
   "source": [
    "### Create instrument object\n",
    "Once all the addresses are shown, pick up the address of the instrument and create the instrument object."
   ]
  },
  {
   "cell_type": "code",
   "execution_count": 3,
   "metadata": {},
   "outputs": [],
   "source": [
    "pia = rm.open_resource('USB0::0x0957::0x0909::MY46204132::0::INSTR')"
   ]
  },
  {
   "cell_type": "markdown",
   "metadata": {},
   "source": [
    "Once the PC recognizes the instrument, you can control the instrument by sending the commands via `pia.write(command)`.\n",
    "## Instrument setup, run measurement\n",
    "To find the commands to set up parameters and run the instrument, look up in the instrument manual.\n",
    "For example, Keysight B2912A Precision source Measure Unit provides\n",
    "[manuals](https://www.keysight.com/en/pd-1983602-pn-B2912A/precision-source-measure-unit-2-ch-10-fa-210-v-3-a-dc-105-a-pulse?pm=PL&nid=-33504.978798&cc=IT&lc=ita) and some examples are shown here.\n",
    "Commands differ machine to machine (or brand to brand, mostly.)"
   ]
  },
  {
   "cell_type": "markdown",
   "metadata": {},
   "source": [
    "## References\n",
    "- [Python official documentation](https://docs.python.org/3.7/)\n",
    "- [PyVISA official documentation](https://pyvisa.readthedocs.io/en/latest/index.html)\n",
    "- [Stack Overflow](https://stackoverflow.com/)\n",
    "- [Think Python: How to Think Like a Computer Scientist](http://greenteapress.com/thinkpython2/html/index.html)\n",
    "- [Google](http://google.com/)\n",
    "\n",
    "## For further learning\n",
    "- [codecademy Learn Python 2](https://www.codecademy.com/learn/learn-python)"
   ]
  }
 ],
 "metadata": {
  "kernelspec": {
   "display_name": "Python 3",
   "language": "python",
   "name": "python3"
  },
  "language_info": {
   "codemirror_mode": {
    "name": "ipython",
    "version": 3
   },
   "file_extension": ".py",
   "mimetype": "text/x-python",
   "name": "python",
   "nbconvert_exporter": "python",
   "pygments_lexer": "ipython3",
   "version": "3.7.4"
  },
  "toc": {
   "base_numbering": 1,
   "nav_menu": {},
   "number_sections": true,
   "sideBar": false,
   "skip_h1_title": true,
   "title_cell": "Table of Contents",
   "title_sidebar": "Contents",
   "toc_cell": true,
   "toc_position": {},
   "toc_section_display": true,
   "toc_window_display": false
  }
 },
 "nbformat": 4,
 "nbformat_minor": 4
}
