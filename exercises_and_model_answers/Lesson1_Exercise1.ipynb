{
 "cells": [
  {
   "cell_type": "markdown",
   "metadata": {},
   "source": [
    "# Lesson 1 - Exercise 1\n",
    "\n",
    "1. Print an invitation for a drink to the people in the lists following the conditions below;\n",
    "2. Each person answers yes or no. Print the name of the attendee and count how many people attend.\n",
    "\n",
    "Conditions:\n",
    "1. Names are stored in the list `names`, ages in `ages`, answers in `ans`;\n",
    "2. Do not invite underaged (less than 16.)"
   ]
  },
  {
   "cell_type": "code",
   "execution_count": 1,
   "metadata": {},
   "outputs": [],
   "source": [
    "names = [\"Alice\", \"Bob\", \"Charlie\", \"Dave\", \"Eve\", \"Faythe\", \"Grace\", \"Heidi\", \"Ivan\", \"Judy\", \"Mallory\", \"Niaj\", \"Olivia\", \"Peggy\", \"Rupert\", \"Sybil\", \"Trudy\", \"Victor\", \"Walter\"]\n",
    "ages = {'Alice': 58, 'Bob': 10, 'Charlie': 27, 'Dave': 12, 'Eve': 50, 'Faythe': 35, 'Grace': 39, 'Heidi': 23, 'Ivan': 53, 'Judy': 28, 'Mallory': 49, 'Niaj': 33, 'Olivia': 17, 'Peggy': 38, 'Rupert': 55, 'Sybil': 9, 'Trudy': 40, 'Victor': 56, 'Walter': 37}\n",
    "ans = {'Alice': 'Yes', 'Bob': 'No', 'Charlie': 'No', 'Dave': 'Yes', 'Eve': 'No', 'Faythe': 'No', 'Grace': 'No', 'Heidi': 'Yes', 'Ivan': 'Yes', 'Judy': 'Yes', 'Mallory': 'No', 'Niaj': 'No', 'Olivia': 'No', 'Peggy': 'Yes', 'Rupert': 'No', 'Sybil': 'Yes', 'Trudy': 'Yes', 'Victor': 'No', 'Walter': 'No'}\n",
    "# invitation message example: \"Hello Alice, let's grab some beer!\""
   ]
  }
 ],
 "metadata": {
  "kernelspec": {
   "display_name": "Python 3",
   "language": "python",
   "name": "python3"
  },
  "language_info": {
   "codemirror_mode": {
    "name": "ipython",
    "version": 3
   },
   "file_extension": ".py",
   "mimetype": "text/x-python",
   "name": "python",
   "nbconvert_exporter": "python",
   "pygments_lexer": "ipython3",
   "version": "3.7.4"
  },
  "toc": {
   "base_numbering": 1,
   "nav_menu": {},
   "number_sections": true,
   "sideBar": false,
   "skip_h1_title": true,
   "title_cell": "Table of Contents",
   "title_sidebar": "Contents",
   "toc_cell": true,
   "toc_position": {},
   "toc_section_display": true,
   "toc_window_display": false
  }
 },
 "nbformat": 4,
 "nbformat_minor": 4
}