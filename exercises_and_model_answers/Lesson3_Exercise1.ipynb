{
 "cells": [
  {
   "cell_type": "markdown",
   "metadata": {},
   "source": [
    "# Lesson 3 - Exercise 1\n",
    "\n",
    "1. Using the impedance measurement data `.csv` provided in [lesson3-data in GitHub](https://github.com/ikuehirata/CodingSeminarCMBR/tree/master/lesson3-data,) fit the values to the formula\n",
    "$$ Z = \\frac{1}{j \\omega C}$$\n",
    "where $C = 2 \\pi f$, $j$ is the imaginary number, and extract $C$ value.\n",
    "The first column of the data is the frequency $f$, the second the impedance $Z$, the third the phase $\\phi = \\arg(Z)$.\n",
    "Plot the experimental value in Bode plot. Add the fit value of $|Z|$.  \n",
    "Hint: use the range range where the experimental fits the theoretical value.\n",
    "\n",
    "2. The experimental value does not follow the theoretical value explicitly because of some parasite resistances. Capacitor model can be explained as\n",
    "$$ Z = \\frac{1}{j \\omega C} \\mathbin{\\!/\\mkern-5mu/\\!} R_p + R_s $$\n",
    "where $R_p$ is parallel resistance, $R_s$ series resistance, operator $\\mathbin{\\!/\\mkern-5mu/\\!}$\n",
    "$$ a \\mathbin{\\!/\\mkern-5mu/\\!} b = \\frac{1}{\\frac{1}{a} + \\frac{1}{b}}$$\n",
    ", meaning a parallel circuit.\n",
    "Plot the experimental value in Bode plot. Add the fit value of $|Z|$.  \n",
    "Hint: if $R_p$ is huge, it can be ignored.\n",
    "\n",
    "3. Plot $C$ vs file name to visually compare the extracted C value."
   ]
  }
 ],
 "metadata": {
  "kernelspec": {
   "display_name": "Python 3",
   "language": "python",
   "name": "python3"
  },
  "language_info": {
   "codemirror_mode": {
    "name": "ipython",
    "version": 3
   },
   "file_extension": ".py",
   "mimetype": "text/x-python",
   "name": "python",
   "nbconvert_exporter": "python",
   "pygments_lexer": "ipython3",
   "version": "3.7.4"
  },
  "toc": {
   "base_numbering": 1,
   "nav_menu": {},
   "number_sections": true,
   "sideBar": false,
   "skip_h1_title": true,
   "title_cell": "Table of Contents",
   "title_sidebar": "Contents",
   "toc_cell": true,
   "toc_position": {},
   "toc_section_display": true,
   "toc_window_display": false
  }
 },
 "nbformat": 4,
 "nbformat_minor": 4
}