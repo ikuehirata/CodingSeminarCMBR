{
 "cells": [
  {
   "cell_type": "markdown",
   "execution_count": null,
   "metadata": {},
   "outputs": [],
   "source": [
    "# Lesson 4 - Exercise 1\n",
    "\n",
    "Here is a dataset of iris flowers [iris.csv](https://github.com/pandas-dev/pandas/blob/master/pandas/tests/data/iris.csv) and some iris flowers which species names are unknown. Identify the species name of each flowers below.\n",
    "\n",
    "| Name  | SepalLength | SepalWidth | PetalLength | PetalWidth |\n",
    "|-------|-------------|------------|-------------|------------|\n",
    "| iris1 | 6.5         | 3          | 5           | 1.2        |\n",
    "| iris2 | 6.5         | 3          | 5           | 2.4        |\n",
    "| iris3 | 6           | 3          | 2           | 0.5        |\n",
    "\n",
    "Hint:  \n",
    "1. Import `iris.csv` to a `pandas.DataFrame`.  \n",
    "2. Add the unknown flowers data to the `DataFrame`.  \n",
    "3. Plot each parameters by `seaborn.pairplot` to show the characteristics of the species.\n"
   ]
  }
 ],
 "metadata": {
  "kernelspec": {
   "display_name": "Python 3",
   "language": "python",
   "name": "python3"
  },
  "language_info": {
   "codemirror_mode": {
    "name": "ipython",
    "version": 3
   },
   "file_extension": ".py",
   "mimetype": "text/x-python",
   "name": "python",
   "nbconvert_exporter": "python",
   "pygments_lexer": "ipython3",
   "version": "3.7.4-final"
  },
  "toc": {
   "base_numbering": 1,
   "nav_menu": {},
   "number_sections": true,
   "sideBar": false,
   "skip_h1_title": true,
   "title_cell": "Table of Contents",
   "title_sidebar": "Contents",
   "toc_cell": true,
   "toc_position": {},
   "toc_section_display": true,
   "toc_window_display": false
  }
 },
 "nbformat": 4,
 "nbformat_minor": 2
}