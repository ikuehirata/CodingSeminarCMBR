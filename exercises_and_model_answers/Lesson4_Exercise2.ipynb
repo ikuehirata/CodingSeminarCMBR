{
 "cells": [
  {
   "cell_type": "markdown",
   "execution_count": null,
   "metadata": {},
   "outputs": [],
   "source": [
    "# Lesson 4 - Exercise 2\n",
    "\n",
    "Simple substitution cipher is a method of encrypting. Each plaintext alphabet is replaced by other alphabet ([Wikipedia](https://en.wikipedia.org/wiki/Substitution_cipher)). [`Lesson4-files/cipher.txt`](https://github.com/ikuehirata/CodingSeminarCMBR/blob/master/exercises_and_model_answers/Lesson4-files/cipher.txt) (shown below) is an English text encrpyted by simple substitution cipher. Decrypt this and obtain the encryption table.\n",
    "\n",
    "    NRMZFYKRKRMRSOUUCNISRACWDRRCRWDOMACWDRDOMYARHOFERGWARUIMKEWIRJR  \n",
    "    SCAIYCWIERRCIFWIBRTWIHINRGMWIFHDTGWDCIFEJRSCIMRERRETDOWCIFOXXRO  \n",
    "    SWIARBRTSROUUCLMITTDOWCIFOSROMYWDIERBRTYOSRMIWIXXIERWDRNERUJREW  \n",
    "    IWDRIXGMGIMIBWDRNOMCTDIDOJRWDRNOZREWCIBWDREWOWRWIYRBRMYWDRNOMYG  \n",
    "    MWDROHWGIMEIBOUUNRMOMYREXRHGOUUCIBXSGMHRETDGHDGWGEMIWXSFYRMWWIH  \n",
    "    DOUURMKRIMRZFYKREACWDRSREFUWFISWDOWSROEIMURWOXSGMHRDOJRWDRHSRYG  \n",
    "    WIBHIMPFRSGMKOMYDIUYGMKDGEEWOWRWDRNROMETGUUOUTOCEARHIMEGYRSRYDI  \n",
    "    MREWOMYDRTGUUARXSOGERYACRJRSCAIYCARHOFERWDRJFUKOSOSROUTOCEWOLRM  \n",
    "    ACTDOWOWDGMKERRNEWIAROMYACTDOWHINREIBGWOMYGMWDRTISUYWDRSROSRIMU  \n",
    "    CWDRJFUKOSBISWDRBRTBGMYOXUOHRWDRSRIMUCTDRMWDRNOMCDOJRMIKSIFMYWI  \n",
    "    SREWIMOMRXSGMHRIBWDRXSRERMWWGNRTDINGWGEMIWTRUUWIMONRMRJRSXSROHD  \n",
    "    REOMCWDGMKRUERAFWXROHROMYKIIYBOGWDOMYWIAIWDDRGENIEWDIEWGUROMYRG  \n",
    "    WDRSGBDRDOYLRXWGWTIFUYDOJRYRXSGJRYDGNIBSRXFWOWGIMOMYLGMKYINNOMC  \n",
    "    OWGNRWSGWWRMACNGHIUIMOHDGOJRUUGWSOMEUOWRYACWKMOSSGIWWTDRPSGMHRD  \n",
    "    WWXETTTKFWRMARSKISK\n",
    "\n",
    "1. Frequency analysis is a powerful method to help break a simple substitution cipher. In this method, each alphabet is replaced according to the frequency of the appearance in the text. It is known that in any given stretch of written language, certain letters and combinations of letters occur with varying frequencies ([Wikipedia](https://en.wikipedia.org/wiki/Frequency_analysis)).\n",
    "    1. Count the number of the appearance of each alphabet in a plaintext file [`Lesson4-files/kant.txt`](https://github.com/ikuehirata/CodingSeminarCMBR/blob/master/exercises_and_model_answers/Lesson4-files/kant.txt) and plot it in a histogram.\n",
    "    1. Count the number of the appearance of the combination of any given two alphabets and plot top 20 combinations in a histogram.\n",
    "    1. Count the number of the appearance of the combination of any given three alphabets and plot top 20 combinations in a histogram.\n",
    "\n",
    "1. Using the results above, decipher the text and obtain the encryption table."
   ]
  }
 ],
 "metadata": {
  "kernelspec": {
   "display_name": "Python 3",
   "language": "python",
   "name": "python3"
  },
  "language_info": {
   "codemirror_mode": {
    "name": "ipython",
    "version": 3
   },
   "file_extension": ".py",
   "mimetype": "text/x-python",
   "name": "python",
   "nbconvert_exporter": "python",
   "pygments_lexer": "ipython3",
   "version": "3.7.4-final"
  },
  "toc": {
   "base_numbering": 1,
   "nav_menu": {},
   "number_sections": true,
   "sideBar": false,
   "skip_h1_title": true,
   "title_cell": "Table of Contents",
   "title_sidebar": "Contents",
   "toc_cell": true,
   "toc_position": {},
   "toc_section_display": true,
   "toc_window_display": false
  }
 },
 "nbformat": 4,
 "nbformat_minor": 2
}