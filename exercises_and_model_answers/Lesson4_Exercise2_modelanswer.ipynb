{
 "cells": [
  {
   "cell_type": "markdown",
   "metadata": {
    "toc": true
   },
   "source": [
    "<h1>Table of Contents<span class=\"tocSkip\"></span></h1>\n",
    "<div class=\"toc\"><ul class=\"toc-item\"></ul></div>"
   ]
  },
  {
   "cell_type": "markdown",
   "metadata": {},
   "source": [
    "# Lesson 4 - Exercise 2\n",
    "\n",
    "Simple substitution cipher is a method of encrypting. Each plaintext alphabet is replaced by other alphabet ([Wikipedia](https://en.wikipedia.org/wiki/Substitution_cipher)). [cipher.txt](https://github.com/ikuehirata/CodingSeminarCMBR/blob/master/exercises_and_model_answers/Lesson4-files/cipher.txt) is an English text encrpyted by simple substitution cipher. Decrypt this and obtain the encryption table.\n",
    "\n",
    "1. Frequency analysis is a powerful method to help break a simple substitution cipher. In this method, each alphabet is replaced according to the frequency of the appearance in the text. It is known that in any given stretch of written language, certain letters and combinations of letters occur with varying frequencies ([Wikipedia](https://en.wikipedia.org/wiki/Frequency_analysis)).\n",
    "    1. Count the number of the appearance of each alphabet in a plaintext file `kant.txt` and plot it in a histogram."
   ]
  },
  {
   "cell_type": "code",
   "execution_count": 1,
   "metadata": {},
   "outputs": [
    {
     "data": {
      "image/png": "[encoded data removed]",
      "text/plain": [
       "<Figure size 432x288 with 1 Axes>"
      ]
     },
     "metadata": {
      "needs_background": "light"
     },
     "output_type": "display_data"
    }
   ],
   "source": [
    "# open file and read txt\n",
    "with open(\"Lesson4-files/kant.txt\", \"r\", encoding=\"utf8\") as f:\n",
    "    dummy = f.read()\n",
    "\n",
    "# modify the text\n",
    "import re\n",
    "dm2 = re.sub(r\"\\W\", \"\", dummy) # remove non-alphabet characters\n",
    "dm2 = dm2.lower() # make all lower case\n",
    "\n",
    "import string\n",
    "alphabets = list(string.ascii_lowercase) # list of original alphabets\n",
    "\n",
    "import pandas as pd\n",
    "import numpy as np\n",
    "# frequeny for 1 character\n",
    "# create dataframe\n",
    "df1char = pd.DataFrame(np.zeros(len(alphabets)), index=alphabets, columns=[\"freq\"])\n",
    "df1char.index.name = \"char\"\n",
    "# this DataFrame df1char has frequency as column and each alphabet as index\n",
    "\n",
    "# to overwrite a value in DataFrame, use \".at\"\n",
    "# to count the frequency of appearance in a str, use str.count()\n",
    "for i in df1char.index:\n",
    "    df1char.at[i, \"freq\"] = dm2.count(i)\n",
    "# sort by frequency\n",
    "df1char.sort_values(\"freq\", inplace=True, ascending=False)\n",
    "# plot\n",
    "%matplotlib inline\n",
    "import seaborn as sns\n",
    "sns.barplot(x=df1char.index, y=df1char[\"freq\"])\n",
    "import matplotlib.pyplot as plt\n",
    "plt.show()"
   ]
  },
  {
   "cell_type": "markdown",
   "metadata": {},
   "source": [
    " 2. Count the number of the appearance of the combination of any given two alphabets and plot top 20 combinations in a histogram.\n"
   ]
  },
  {
   "cell_type": "code",
   "execution_count": 2,
   "metadata": {},
   "outputs": [
    {
     "data": {
      "image/png": "[encoded data removed]",
      "text/plain": [
       "<Figure size 432x288 with 1 Axes>"
      ]
     },
     "metadata": {
      "needs_background": "light"
     },
     "output_type": "display_data"
    }
   ],
   "source": [
    "# create df -> count -> sort is the same procedure. Define a function\n",
    "def countsort(text, chars):\n",
    "    # create dataframe\n",
    "    df = pd.DataFrame(np.zeros(len(chars)), index=chars, columns=[\"freq\"])\n",
    "    df.index.name = \"char\"\n",
    "    # count frequency\n",
    "    for i in df.index:\n",
    "        df.at[i, \"freq\"] = text.count(i)\n",
    "    # sort by frequency\n",
    "    df.sort_values(\"freq\", inplace=True, ascending=False)\n",
    "    return df\n",
    "\n",
    "# frequency for 2 characters\n",
    "# create 2-char list\n",
    "twochar = []\n",
    "for c1 in alphabets:\n",
    "    for c2 in alphabets:\n",
    "        tx = c1+c2\n",
    "        twochar.append(tx)\n",
    "df2char = countsort(dm2, twochar)\n",
    "# plot\n",
    "plt.cla() # remove previous figure\n",
    "sns.barplot(x=df2char.index[:20], y=df2char[\"freq\"][:20])\n",
    "plt.show()"
   ]
  },
  {
   "cell_type": "markdown",
   "metadata": {},
   "source": [
    "  3. Count the number of the appearance of the combination of any given three alphabets and plot top 20 combinations in a histogram."
   ]
  },
  {
   "cell_type": "code",
   "execution_count": 3,
   "metadata": {},
   "outputs": [
    {
     "name": "stdout",
     "output_type": "stream",
     "text": [
      "3-char combination has 17576 ways\n",
      "length of dummy text is 12360\n"
     ]
    }
   ],
   "source": [
    "print(f\"3-char combination has {len(alphabets)**3} ways\")\n",
    "print(f\"length of dummy text is {len(dm2)}\")"
   ]
  },
  {
   "cell_type": "markdown",
   "metadata": {},
   "source": [
    "Here we have two options;  \n",
    "plan A:  \n",
    "1. create a list of possible 3-char combination  \n",
    "2. for each element in list, count the frequency  \n",
    "This takes maximum 26^3 \\* 12358 = 17576 \\* 12358 processes.\n",
    "\n",
    "plan B:  \n",
    "B1 make all 3-char combinations from the dummy text  \n",
    "B2 count the frequency of each combination  \n",
    "This takes maximum 12358 * 12358 processes\n",
    "\n",
    "plan B is obviously faster than plan A. Let's implement plan B."
   ]
  },
  {
   "cell_type": "code",
   "execution_count": 4,
   "metadata": {},
   "outputs": [
    {
     "data": {
      "image/png": "[encoded data removed]",
      "text/plain": [
       "<Figure size 432x288 with 1 Axes>"
      ]
     },
     "metadata": {
      "needs_background": "light"
     },
     "output_type": "display_data"
    }
   ],
   "source": [
    "# create a list for all 3-char combinations in dummy text\n",
    "threechar = []\n",
    "for index, c in enumerate(dm2[:-2]): # enumerate returns (index number, element)\n",
    "    threechar.append(dm2[index:index+3])\n",
    "\n",
    "# \"collections\" module has Counter class, this gives back the number of counts in dictionary style\n",
    "from collections import Counter\n",
    "c = Counter(threechar)\n",
    "# create dataframe from dictionary\n",
    "df3char = pd.DataFrame.from_dict(c, orient=\"index\", columns=[\"freq\"])\n",
    "df3char.sort_values(\"freq\", inplace=True, ascending=False)\n",
    "df3char.index.name = \"char\"\n",
    "\n",
    "# plot\n",
    "plt.cla() # remove previous figure\n",
    "sns.barplot(x=df3char.index[:20], y=df3char[\"freq\"][:20])\n",
    "plt.show()"
   ]
  },
  {
   "cell_type": "markdown",
   "metadata": {},
   "source": [
    "2. Using the results above, decipher the text and obtain the encryption table."
   ]
  },
  {
   "cell_type": "code",
   "execution_count": 5,
   "metadata": {},
   "outputs": [
    {
     "data": {
      "image/png": "[encoded data removed]",
      "text/plain": [
       "<Figure size 432x288 with 1 Axes>"
      ]
     },
     "metadata": {
      "needs_background": "light"
     },
     "output_type": "display_data"
    }
   ],
   "source": [
    "# open file and read txt\n",
    "with open(\"Lesson4-files/cipher.txt\", \"r\", encoding=\"utf8\") as f:\n",
    "    cipher = f.read()\n",
    "\n",
    "# First, plot 1-char, 2-char, 3-char frequency graph.\n",
    "alphabets_capital = list(string.ascii_uppercase)\n",
    "\n",
    "# 1 char\n",
    "cp1char = countsort(cipher, alphabets_capital)\n",
    "# plot\n",
    "plt.cla() # remove previous figure\n",
    "sns.barplot(x=cp1char.index, y=cp1char[\"freq\"])\n",
    "plt.show()\n"
   ]
  },
  {
   "cell_type": "code",
   "execution_count": 6,
   "metadata": {},
   "outputs": [
    {
     "data": {
      "image/png": "[encoded data removed]",
      "text/plain": [
       "<Figure size 432x288 with 1 Axes>"
      ]
     },
     "metadata": {
      "needs_background": "light"
     },
     "output_type": "display_data"
    }
   ],
   "source": [
    "twochar_capital = list(map(lambda s: s.upper(), twochar))\n",
    "cp2char = countsort(cipher, twochar_capital)\n",
    "\n",
    "plt.cla() # remove previous figure\n",
    "sns.barplot(x=cp2char.index[:20], y=cp2char[\"freq\"][:20])\n",
    "plt.show()"
   ]
  },
  {
   "cell_type": "code",
   "execution_count": 7,
   "metadata": {},
   "outputs": [
    {
     "data": {
      "image/png": "[encoded data removed]",
      "text/plain": [
       "<Figure size 432x288 with 1 Axes>"
      ]
     },
     "metadata": {
      "needs_background": "light"
     },
     "output_type": "display_data"
    }
   ],
   "source": [
    "# create a list for all 3-char combinations in dummy text\n",
    "threechar_capital = []\n",
    "for index, c in enumerate(cipher[:-2]): # enumerate returns (index number, element)\n",
    "    threechar_capital.append(cipher[index:index+3])\n",
    "\n",
    "# \"collections\" module has Counter class, this gives back the number of counts in dictionary style\n",
    "c = Counter(threechar_capital)\n",
    "# create dataframe from dictionary\n",
    "cp3char = pd.DataFrame.from_dict(c, orient=\"index\", columns=[\"freq\"])\n",
    "cp3char.sort_values(\"freq\", inplace=True, ascending=False)\n",
    "cp3char.index.name = \"char\"\n",
    "\n",
    "# plot\n",
    "plt.cla() # remove previous figure\n",
    "sns.barplot(x=cp3char.index[:20], y=cp3char[\"freq\"][:20])\n",
    "plt.show()"
   ]
  },
  {
   "cell_type": "markdown",
   "metadata": {},
   "source": [
    "Comparing the results above, you can obtain the original text.\n",
    "First, \"ONY\" is obviously \"the\"."
   ]
  },
  {
   "cell_type": "code",
   "execution_count": 8,
   "metadata": {},
   "outputs": [
    {
     "name": "stdout",
     "output_type": "stream",
     "text": [
      "JeTURCLeLeTeMGFFEJKMeAE the eEethGTAE the hGTCAeBGRPeStAeFKTLPtKeHeMEAKCEtKPeeEKRtKIeWtKBKJeSTtKRBhWSthEKReHeMEKTePeePWhGtEKRGVVeGMtKAeIeWMeGFFEZTKWWhGtEKRGMeGTCthKPeIeWCGMeTKtKVVKPe the JPeFHePtK the KVSTSKTKI the JGTEWhKhGHe the JGUePtEKI the PtGtetKCeIeTC the JGTCST the GBtSKTPKIGFFJeTGTCePVeBSGFFEKIVMSTBePWhSBhStSPTKtVMRCeTttKBhGFFeTLeKTeURCLePAE the MePRFtIKMthGtMeGPKTFetGVMSTBehGHe the BMeCStKIBKTQReMSTLGTChKFCSTLhSPPtGte the JeGTPWSFFGFWGEPAeBKTPSCeMeChKTePtGTCheWSFFAeVMGSPeCAEeHeMEAKCEAeBGRPe the HRFLGMGMeGFWGEPtGZeTAEWhGtGthSTLPeeJPtKAeGTCAEWhGtBKJePKIStGTCST the WKMFC the MeGMeKTFE the HRFLGMIKM the IeWISTCGVFGBe the MeKTFEWheT the JGTEhGHeTKLMKRTCtKMePtKTKTeVMSTBeKI the VMePeTttSJeWhKJStSPTKtWeFFtKTGJeTeHeMVMeGBhePGTEthSTLeFPeARtVeGBeGTCLKKCIGSthGTCtKAKthheSPJKPthKPtSFeGTCeS the MSIhehGCZeVtStWKRFChGHeCeVMSHeChSJKIMeVRtGtSKTGTCZSTLCKJJGTEGtSJeWMStteTAETSBKFKJGBhSGHeFFStMGTPFGteCAEWZJGMMSKtt the VMSTBehttVPWWWLRteTAeMLKML\n"
     ]
    }
   ],
   "source": [
    "dic = {\"O\":\"t\", \"N\":\"h\", \"Y\": \"e\"}\n",
    "org = cipher.translate(str.maketrans(dic)) # translate\n",
    "\n",
    "# for readability, insert spaces before and after \"the\"\n",
    "org = org.replace(\"the\", \" the \")\n",
    "print(org)"
   ]
  },
  {
   "cell_type": "markdown",
   "metadata": {},
   "source": [
    "Continuing the procedure above and with a lot of guessing, you will reach to the answer... good luck!"
   ]
  }
 ],
 "metadata": {
  "kernelspec": {
   "display_name": "Python 3",
   "language": "python",
   "name": "python3"
  },
  "language_info": {
   "codemirror_mode": {
    "name": "ipython",
    "version": 3
   },
   "file_extension": ".py",
   "mimetype": "text/x-python",
   "name": "python",
   "nbconvert_exporter": "python",
   "pygments_lexer": "ipython3",
   "version": "3.7.3"
  },
  "toc": {
   "base_numbering": 1,
   "nav_menu": {},
   "number_sections": true,
   "sideBar": false,
   "skip_h1_title": true,
   "title_cell": "Table of Contents",
   "title_sidebar": "Contents",
   "toc_cell": true,
   "toc_position": {},
   "toc_section_display": true,
   "toc_window_display": false
  }
 },
 "nbformat": 4,
 "nbformat_minor": 2
}
